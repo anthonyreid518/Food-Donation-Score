{
 "cells": [
  {
   "cell_type": "code",
   "execution_count": 1,
   "id": "a9f3abbd-a5fa-430e-a07a-fbc699ff0b54",
   "metadata": {},
   "outputs": [],
   "source": [
    "import pandas as pd\n",
    "import numpy as np\n",
    "import matplotlib.pyplot as plt\n",
    "import math\n",
    "import seaborn as sns\n",
    "\n",
    "from sklearn.preprocessing import StandardScaler, PolynomialFeatures\n",
    "from sklearn.model_selection import train_test_split\n",
    "from sklearn.linear_model import LinearRegression\n",
    "from sklearn.pipeline  import make_pipeline\n",
    "from category_encoders import OneHotEncoder\n",
    "from sklearn.metrics import mean_squared_error\n",
    "from sklearn.compose import make_column_transformer\n",
    "from sklearn.compose import make_column_selector"
   ]
  },
  {
   "cell_type": "markdown",
   "id": "d2cf20a6-bcaf-4585-a4a9-53e51617c66e",
   "metadata": {},
   "source": [
    "### Import 2 food Dataframes as DF & Df_new and combine them on ID"
   ]
  },
  {
   "cell_type": "code",
   "execution_count": 112,
   "id": "045345ca-0be5-4e94-9b69-ef9abd2c7f5a",
   "metadata": {},
   "outputs": [
    {
     "data": {
      "text/html": [
       "<div>\n",
       "<style scoped>\n",
       "    .dataframe tbody tr th:only-of-type {\n",
       "        vertical-align: middle;\n",
       "    }\n",
       "\n",
       "    .dataframe tbody tr th {\n",
       "        vertical-align: top;\n",
       "    }\n",
       "\n",
       "    .dataframe thead th {\n",
       "        text-align: right;\n",
       "    }\n",
       "</style>\n",
       "<table border=\"1\" class=\"dataframe\">\n",
       "  <thead>\n",
       "    <tr style=\"text-align: right;\">\n",
       "      <th></th>\n",
       "      <th>ID</th>\n",
       "      <th>FoodGroup</th>\n",
       "      <th>ShortDescrip</th>\n",
       "      <th>Descrip</th>\n",
       "      <th>CommonName</th>\n",
       "      <th>MfgName</th>\n",
       "      <th>ScientificName</th>\n",
       "      <th>Energy_kcal</th>\n",
       "      <th>Protein_g</th>\n",
       "      <th>Fat_g</th>\n",
       "      <th>...</th>\n",
       "      <th>Folate_USRDA</th>\n",
       "      <th>Niacin_USRDA</th>\n",
       "      <th>Riboflavin_USRDA</th>\n",
       "      <th>Thiamin_USRDA</th>\n",
       "      <th>Calcium_USRDA</th>\n",
       "      <th>Copper_USRDA</th>\n",
       "      <th>Magnesium_USRDA</th>\n",
       "      <th>Phosphorus_USRDA</th>\n",
       "      <th>Selenium_USRDA</th>\n",
       "      <th>Zinc_USRDA</th>\n",
       "    </tr>\n",
       "  </thead>\n",
       "  <tbody>\n",
       "    <tr>\n",
       "      <th>0</th>\n",
       "      <td>1001</td>\n",
       "      <td>Dairy and Egg Products</td>\n",
       "      <td>BUTTER,WITH SALT</td>\n",
       "      <td>Butter, salted</td>\n",
       "      <td>NaN</td>\n",
       "      <td>NaN</td>\n",
       "      <td>NaN</td>\n",
       "      <td>717.0</td>\n",
       "      <td>0.85</td>\n",
       "      <td>81.11</td>\n",
       "      <td>...</td>\n",
       "      <td>0.0075</td>\n",
       "      <td>0.002625</td>\n",
       "      <td>0.026154</td>\n",
       "      <td>0.004167</td>\n",
       "      <td>0.020000</td>\n",
       "      <td>0.000000</td>\n",
       "      <td>0.004762</td>\n",
       "      <td>0.034286</td>\n",
       "      <td>0.018182</td>\n",
       "      <td>0.008182</td>\n",
       "    </tr>\n",
       "    <tr>\n",
       "      <th>1</th>\n",
       "      <td>1002</td>\n",
       "      <td>Dairy and Egg Products</td>\n",
       "      <td>BUTTER,WHIPPED,WITH SALT</td>\n",
       "      <td>Butter, whipped, with salt</td>\n",
       "      <td>NaN</td>\n",
       "      <td>NaN</td>\n",
       "      <td>NaN</td>\n",
       "      <td>717.0</td>\n",
       "      <td>0.85</td>\n",
       "      <td>81.11</td>\n",
       "      <td>...</td>\n",
       "      <td>0.0075</td>\n",
       "      <td>0.002625</td>\n",
       "      <td>0.026154</td>\n",
       "      <td>0.004167</td>\n",
       "      <td>0.020000</td>\n",
       "      <td>0.000018</td>\n",
       "      <td>0.004762</td>\n",
       "      <td>0.032857</td>\n",
       "      <td>0.018182</td>\n",
       "      <td>0.004545</td>\n",
       "    </tr>\n",
       "    <tr>\n",
       "      <th>2</th>\n",
       "      <td>1003</td>\n",
       "      <td>Dairy and Egg Products</td>\n",
       "      <td>BUTTER OIL,ANHYDROUS</td>\n",
       "      <td>Butter oil, anhydrous</td>\n",
       "      <td>NaN</td>\n",
       "      <td>NaN</td>\n",
       "      <td>NaN</td>\n",
       "      <td>876.0</td>\n",
       "      <td>0.28</td>\n",
       "      <td>99.48</td>\n",
       "      <td>...</td>\n",
       "      <td>0.0000</td>\n",
       "      <td>0.000188</td>\n",
       "      <td>0.003846</td>\n",
       "      <td>0.000833</td>\n",
       "      <td>0.003333</td>\n",
       "      <td>0.000001</td>\n",
       "      <td>0.000000</td>\n",
       "      <td>0.004286</td>\n",
       "      <td>0.000000</td>\n",
       "      <td>0.000909</td>\n",
       "    </tr>\n",
       "  </tbody>\n",
       "</table>\n",
       "<p>3 rows × 45 columns</p>\n",
       "</div>"
      ],
      "text/plain": [
       "     ID               FoodGroup              ShortDescrip  \\\n",
       "0  1001  Dairy and Egg Products          BUTTER,WITH SALT   \n",
       "1  1002  Dairy and Egg Products  BUTTER,WHIPPED,WITH SALT   \n",
       "2  1003  Dairy and Egg Products      BUTTER OIL,ANHYDROUS   \n",
       "\n",
       "                      Descrip CommonName MfgName ScientificName  Energy_kcal  \\\n",
       "0              Butter, salted        NaN     NaN            NaN        717.0   \n",
       "1  Butter, whipped, with salt        NaN     NaN            NaN        717.0   \n",
       "2       Butter oil, anhydrous        NaN     NaN            NaN        876.0   \n",
       "\n",
       "   Protein_g  Fat_g  ...  Folate_USRDA  Niacin_USRDA  Riboflavin_USRDA  \\\n",
       "0       0.85  81.11  ...        0.0075      0.002625          0.026154   \n",
       "1       0.85  81.11  ...        0.0075      0.002625          0.026154   \n",
       "2       0.28  99.48  ...        0.0000      0.000188          0.003846   \n",
       "\n",
       "   Thiamin_USRDA  Calcium_USRDA  Copper_USRDA  Magnesium_USRDA  \\\n",
       "0       0.004167       0.020000      0.000000         0.004762   \n",
       "1       0.004167       0.020000      0.000018         0.004762   \n",
       "2       0.000833       0.003333      0.000001         0.000000   \n",
       "\n",
       "   Phosphorus_USRDA  Selenium_USRDA  Zinc_USRDA  \n",
       "0          0.034286        0.018182    0.008182  \n",
       "1          0.032857        0.018182    0.004545  \n",
       "2          0.004286        0.000000    0.000909  \n",
       "\n",
       "[3 rows x 45 columns]"
      ]
     },
     "execution_count": 112,
     "metadata": {},
     "output_type": "execute_result"
    }
   ],
   "source": [
    "df = pd.read_csv('https://query.data.world/s/4rc3ue7y43lgazmy44xhxpn32mfujo')\n",
    "df.head(3)"
   ]
  },
  {
   "cell_type": "code",
   "execution_count": 113,
   "id": "6e378d05-a4aa-4099-ae9e-9eaaa2e6fb15",
   "metadata": {
    "tags": []
   },
   "outputs": [
    {
     "data": {
      "text/html": [
       "<div>\n",
       "<style scoped>\n",
       "    .dataframe tbody tr th:only-of-type {\n",
       "        vertical-align: middle;\n",
       "    }\n",
       "\n",
       "    .dataframe tbody tr th {\n",
       "        vertical-align: top;\n",
       "    }\n",
       "\n",
       "    .dataframe thead th {\n",
       "        text-align: right;\n",
       "    }\n",
       "</style>\n",
       "<table border=\"1\" class=\"dataframe\">\n",
       "  <thead>\n",
       "    <tr style=\"text-align: right;\">\n",
       "      <th></th>\n",
       "      <th>NDB_No</th>\n",
       "      <th>Shrt_Desc</th>\n",
       "      <th>Water_(g)</th>\n",
       "      <th>Energ_Kcal</th>\n",
       "      <th>Protein_(g)</th>\n",
       "      <th>Lipid_Tot_(g)</th>\n",
       "      <th>Ash_(g)</th>\n",
       "      <th>Carbohydrt_(g)</th>\n",
       "      <th>Fiber_TD_(g)</th>\n",
       "      <th>Sugar_Tot_(g)</th>\n",
       "      <th>...</th>\n",
       "      <th>Vit_K_(µg)</th>\n",
       "      <th>FA_Sat_(g)</th>\n",
       "      <th>FA_Mono_(g)</th>\n",
       "      <th>FA_Poly_(g)</th>\n",
       "      <th>Cholestrl_(mg)</th>\n",
       "      <th>GmWt_1</th>\n",
       "      <th>GmWt_Desc1</th>\n",
       "      <th>GmWt_2</th>\n",
       "      <th>GmWt_Desc2</th>\n",
       "      <th>Refuse_Pct</th>\n",
       "    </tr>\n",
       "  </thead>\n",
       "  <tbody>\n",
       "    <tr>\n",
       "      <th>0</th>\n",
       "      <td>1001</td>\n",
       "      <td>BUTTER,WITH SALT</td>\n",
       "      <td>15.87</td>\n",
       "      <td>717</td>\n",
       "      <td>0.85</td>\n",
       "      <td>81.11</td>\n",
       "      <td>2.11</td>\n",
       "      <td>0.06</td>\n",
       "      <td>0.0</td>\n",
       "      <td>0.06</td>\n",
       "      <td>...</td>\n",
       "      <td>7.0</td>\n",
       "      <td>51.368</td>\n",
       "      <td>21.021</td>\n",
       "      <td>3.043</td>\n",
       "      <td>215.0</td>\n",
       "      <td>5.0</td>\n",
       "      <td>1 pat,  (1\" sq, 1/3\" high)</td>\n",
       "      <td>14.2</td>\n",
       "      <td>1 tbsp</td>\n",
       "      <td>0.0</td>\n",
       "    </tr>\n",
       "    <tr>\n",
       "      <th>1</th>\n",
       "      <td>1002</td>\n",
       "      <td>BUTTER,WHIPPED,W/ SALT</td>\n",
       "      <td>16.72</td>\n",
       "      <td>718</td>\n",
       "      <td>0.49</td>\n",
       "      <td>78.30</td>\n",
       "      <td>1.62</td>\n",
       "      <td>2.87</td>\n",
       "      <td>0.0</td>\n",
       "      <td>0.06</td>\n",
       "      <td>...</td>\n",
       "      <td>4.6</td>\n",
       "      <td>45.390</td>\n",
       "      <td>19.874</td>\n",
       "      <td>3.331</td>\n",
       "      <td>225.0</td>\n",
       "      <td>3.8</td>\n",
       "      <td>1 pat,  (1\" sq, 1/3\" high)</td>\n",
       "      <td>9.4</td>\n",
       "      <td>1 tbsp</td>\n",
       "      <td>0.0</td>\n",
       "    </tr>\n",
       "    <tr>\n",
       "      <th>2</th>\n",
       "      <td>1003</td>\n",
       "      <td>BUTTER OIL,ANHYDROUS</td>\n",
       "      <td>0.24</td>\n",
       "      <td>876</td>\n",
       "      <td>0.28</td>\n",
       "      <td>99.48</td>\n",
       "      <td>0.00</td>\n",
       "      <td>0.00</td>\n",
       "      <td>0.0</td>\n",
       "      <td>0.00</td>\n",
       "      <td>...</td>\n",
       "      <td>8.6</td>\n",
       "      <td>61.924</td>\n",
       "      <td>28.732</td>\n",
       "      <td>3.694</td>\n",
       "      <td>256.0</td>\n",
       "      <td>12.8</td>\n",
       "      <td>1 tbsp</td>\n",
       "      <td>205.0</td>\n",
       "      <td>1 cup</td>\n",
       "      <td>0.0</td>\n",
       "    </tr>\n",
       "  </tbody>\n",
       "</table>\n",
       "<p>3 rows × 53 columns</p>\n",
       "</div>"
      ],
      "text/plain": [
       "   NDB_No               Shrt_Desc  Water_(g)  Energ_Kcal  Protein_(g)  \\\n",
       "0    1001        BUTTER,WITH SALT      15.87         717         0.85   \n",
       "1    1002  BUTTER,WHIPPED,W/ SALT      16.72         718         0.49   \n",
       "2    1003    BUTTER OIL,ANHYDROUS       0.24         876         0.28   \n",
       "\n",
       "   Lipid_Tot_(g)  Ash_(g)  Carbohydrt_(g)  Fiber_TD_(g)  Sugar_Tot_(g)  ...  \\\n",
       "0          81.11     2.11            0.06           0.0           0.06  ...   \n",
       "1          78.30     1.62            2.87           0.0           0.06  ...   \n",
       "2          99.48     0.00            0.00           0.0           0.00  ...   \n",
       "\n",
       "   Vit_K_(µg)  FA_Sat_(g)  FA_Mono_(g)  FA_Poly_(g)  Cholestrl_(mg)  GmWt_1  \\\n",
       "0         7.0      51.368       21.021        3.043           215.0     5.0   \n",
       "1         4.6      45.390       19.874        3.331           225.0     3.8   \n",
       "2         8.6      61.924       28.732        3.694           256.0    12.8   \n",
       "\n",
       "                   GmWt_Desc1  GmWt_2  GmWt_Desc2  Refuse_Pct  \n",
       "0  1 pat,  (1\" sq, 1/3\" high)    14.2      1 tbsp         0.0  \n",
       "1  1 pat,  (1\" sq, 1/3\" high)     9.4      1 tbsp         0.0  \n",
       "2                      1 tbsp   205.0       1 cup         0.0  \n",
       "\n",
       "[3 rows x 53 columns]"
      ]
     },
     "execution_count": 113,
     "metadata": {},
     "output_type": "execute_result"
    }
   ],
   "source": [
    "df_new = pd.read_excel('https://query.data.world/s/twh3fzbktso2x5z5dlr7yal2ntdfks')\n",
    "df_new.head(3)"
   ]
  },
  {
   "cell_type": "markdown",
   "id": "9d5fcf5f-aa6d-41a4-b6d7-08bdd19c9573",
   "metadata": {},
   "source": [
    "### Investigate final df and drop missing rows\n",
    "- tried simple impute before and it didn't work (will drop na instead)"
   ]
  },
  {
   "cell_type": "code",
   "execution_count": 114,
   "id": "9afa962f-04a2-484f-9978-e37c84b309cb",
   "metadata": {},
   "outputs": [],
   "source": [
    "final_df2 = pd.merge(left=df[['ID', 'FoodGroup','Protein_g', 'VitA_mcg']], \n",
    "                    right=df_new[['NDB_No','Shrt_Desc','Vit_D_µg', 'Vit_E_(mg)' , 'Vit_B12_(µg)','Vit_C_(mg)' , 'Calcium_(mg)', 'Iron_(mg)' , 'Potassium_(mg)' ,'FA_Mono_(g)','Folate_Tot_(µg)']],\n",
    "                    left_on = 'ID',\n",
    "                    right_on ='NDB_No', \n",
    "                    how='right').drop(columns='ID')"
   ]
  },
  {
   "cell_type": "code",
   "execution_count": 115,
   "id": "c5b27c54-56fd-46db-be9b-ed3a2d92cf46",
   "metadata": {},
   "outputs": [
    {
     "data": {
      "text/plain": [
       "FoodGroup           371\n",
       "Protein_g           371\n",
       "VitA_mcg            371\n",
       "NDB_No                0\n",
       "Shrt_Desc             0\n",
       "Vit_D_µg           3262\n",
       "Vit_E_(mg)         2889\n",
       "Vit_B12_(µg)       1193\n",
       "Vit_C_(mg)          818\n",
       "Calcium_(mg)        348\n",
       "Iron_(mg)           144\n",
       "Potassium_(mg)      426\n",
       "FA_Mono_(g)         666\n",
       "Folate_Tot_(µg)    1261\n",
       "dtype: int64"
      ]
     },
     "execution_count": 115,
     "metadata": {},
     "output_type": "execute_result"
    }
   ],
   "source": [
    "#inspect\n",
    "final_df2.isna().sum()"
   ]
  },
  {
   "cell_type": "code",
   "execution_count": 116,
   "id": "bc099f27-f1f5-4ab4-85e3-61846091ba5c",
   "metadata": {},
   "outputs": [
    {
     "data": {
      "text/plain": [
       "(4215, 14)"
      ]
     },
     "execution_count": 116,
     "metadata": {},
     "output_type": "execute_result"
    }
   ],
   "source": [
    "final_df2.dropna(inplace=True)\n",
    "final_df2.reset_index(drop=True, inplace=True)\n",
    "\n",
    "final_df2.shape # (6330,13) now (4275,12)"
   ]
  },
  {
   "cell_type": "markdown",
   "id": "de9ee2a6-d26b-464c-8f85-633e7c659ce5",
   "metadata": {},
   "source": [
    "### Find the Nutrition density of food based on certain nutritions"
   ]
  },
  {
   "cell_type": "code",
   "execution_count": 117,
   "id": "db425dd1-8bf5-4f12-944e-b854ddd15a65",
   "metadata": {},
   "outputs": [],
   "source": [
    "def findND(df):\n",
    "    '''This funciton takes a df and returns a list of the nutrient density \n",
    "    for each food in the df. The nutrient density is found by summing the nutrients from\n",
    "    vitamins and minerals in a food'''\n",
    "\n",
    "    #take each nutrient and convert to grams\n",
    "    protein = (df['Protein_g'])\n",
    "    vitA = ((df['VitA_mcg']/1_000_000))\n",
    "    vitD = ((df['Vit_D_µg']/100))\n",
    "    vitE = ((df['Vit_E_(mg)']/1_000_000))\n",
    "    vitb12 = ((df['Vit_B12_(µg)']/100_000))\n",
    "    calcium = ((df['Calcium_(mg)']/1_000_000))\n",
    "    iron = ((df['Iron_(mg)']/1_000_000))\n",
    "    vitC = ((df['Vit_C_(mg)']/1_000_000))\n",
    "    potassium = ((df['Potassium_(mg)']/1_000_000))\n",
    "    fatty_acids = ((df['FA_Mono_(g)']))\n",
    "    folate = ((df['Folate_Tot_(µg)']/100_000))\n",
    "    \n",
    "    nutrition_density = []\n",
    "    for i in range(len(protein)):\n",
    "        density = protein[i]+vitA[i]+ vitD[i]+ vitE[i]+ vitb12[i]+ calcium[i]+ iron[i]+vitC[i]+potassium[i]+ fatty_acids[i]+folate[i]\n",
    "        nutrition_density.append(round(density)/12)\n",
    "        \n",
    "    return(nutrition_density)"
   ]
  },
  {
   "cell_type": "code",
   "execution_count": 118,
   "id": "e42dfe09-18e2-49ff-8825-1499bc17fdaf",
   "metadata": {},
   "outputs": [
    {
     "data": {
      "text/plain": [
       "0    0\n",
       "dtype: int64"
      ]
     },
     "execution_count": 118,
     "metadata": {},
     "output_type": "execute_result"
    }
   ],
   "source": [
    "#test the function and inspect\n",
    "density = findND(final_df2)\n",
    "np.mean(density) # 1.245\n",
    "min(density) #0\n",
    "max(density)#7.16\n",
    "\n",
    "pd.DataFrame(density).isna().sum() # 0 - searching for nans in formula"
   ]
  },
  {
   "cell_type": "code",
   "execution_count": 119,
   "id": "eb055f59-0177-42e0-91ef-b1e734511bb0",
   "metadata": {},
   "outputs": [],
   "source": [
    "#assign Nutrion density column\n",
    "final_df2['Nutrition Density'] = density"
   ]
  },
  {
   "cell_type": "code",
   "execution_count": 120,
   "id": "48ec48c5-e8ff-4304-a237-a12d4cefe7b1",
   "metadata": {},
   "outputs": [
    {
     "data": {
      "image/png": "[encoded data removed]",
      "text/plain": [
       "<Figure size 432x288 with 1 Axes>"
      ]
     },
     "metadata": {
      "needs_background": "light"
     },
     "output_type": "display_data"
    }
   ],
   "source": [
    "plt.hist(density);\n",
    "\n",
    "plt.xlabel('Nutrion Density')\n",
    "plt.ylabel('Frequency')\n",
    "plt.title('Frequency of Nutrion Densities');"
   ]
  },
  {
   "cell_type": "code",
   "execution_count": 121,
   "id": "1c61c8af-378f-4bc8-8e3e-2dec63e568b2",
   "metadata": {},
   "outputs": [],
   "source": [
    "#score each of the food groups manually\n",
    "final_df2.loc[final_df2['FoodGroup'] == 'Dairy and Egg Products', 'storage'] = 1\n",
    "final_df2.loc[final_df2['FoodGroup'] == 'Spices and Herbs', 'storage'] = 5\n",
    "final_df2.loc[final_df2['FoodGroup'] == 'Baby Foods', 'storage'] = 3\n",
    "final_df2.loc[final_df2['FoodGroup'] == 'Fats and Oils', 'storage'] = 5\n",
    "final_df2.loc[final_df2['FoodGroup'] == 'Poultry Products', 'storage'] = 1\n",
    "final_df2.loc[final_df2['FoodGroup'] == 'Soups, Sauces, and Gravies', 'storage'] = 4\n",
    "final_df2.loc[final_df2['FoodGroup'] == 'Sausages and Luncheon Meats', 'storage'] = 2\n",
    "final_df2.loc[final_df2['FoodGroup'] == 'Breakfast Cereals', 'storage'] = 10\n",
    "final_df2.loc[final_df2['FoodGroup'] == 'Fruits and Fruit Juices', 'storage'] = 4\n",
    "final_df2.loc[final_df2['FoodGroup'] == 'Pork Products', 'storage'] = 2\n",
    "final_df2.loc[final_df2['FoodGroup'] == 'Vegetables and Vegetable Products', 'storage'] = 3\n",
    "final_df2.loc[final_df2['FoodGroup'] == 'Nut and Seed Products', 'storage'] = 10\n",
    "final_df2.loc[final_df2['FoodGroup'] == 'Beef Products', 'storage'] = 2\n",
    "final_df2.loc[final_df2['FoodGroup'] == 'Beverages', 'storage'] = 10\n",
    "final_df2.loc[final_df2['FoodGroup'] == 'Finfish and Shellfish Products', 'storage'] = 1\n",
    "final_df2.loc[final_df2['FoodGroup'] == 'Lamb, Veal, and Game Products', 'storage'] = 2\n",
    "final_df2.loc[final_df2['FoodGroup'] == 'Baked Products', 'storage'] = 5\n",
    "final_df2.loc[final_df2['FoodGroup'] == 'Sweets', 'storage'] = 10\n",
    "final_df2.loc[final_df2['FoodGroup'] == 'Cereal Grains and Pasta', 'storage'] = 10\n",
    "final_df2.loc[final_df2['FoodGroup'] == 'Fast Foods', 'storage'] = 1\n",
    "final_df2.loc[final_df2['FoodGroup'] == 'Meals, Entrees, and Side Dishes', 'storage'] = 2\n",
    "final_df2.loc[final_df2['FoodGroup'] == 'Snacks', 'storage'] = 9\n",
    "final_df2.loc[final_df2['FoodGroup'] == 'American Indian/Alaska Native Foods', 'storage'] = 3\n",
    "final_df2.loc[final_df2['FoodGroup'] == 'Restaurant Foods', 'storage'] = 1\n",
    "final_df2.loc[final_df2['FoodGroup'] == 'Legumes and Legume Products', 'storage'] = 9\n",
    "\n"
   ]
  },
  {
   "cell_type": "code",
   "execution_count": null,
   "id": "726aefdc-3ff1-42e3-b73b-91483d20bd72",
   "metadata": {},
   "outputs": [],
   "source": []
  },
  {
   "cell_type": "markdown",
   "id": "f0f3bb0d-daa1-44a6-bb38-7a829a8031e6",
   "metadata": {},
   "source": [
    "### Determind the score of the foods by standardizing"
   ]
  },
  {
   "cell_type": "code",
   "execution_count": 123,
   "id": "7a9356a6-38a4-4b6b-8fc4-554b2c582a5e",
   "metadata": {},
   "outputs": [
    {
     "data": {
      "text/html": [
       "<div>\n",
       "<style scoped>\n",
       "    .dataframe tbody tr th:only-of-type {\n",
       "        vertical-align: middle;\n",
       "    }\n",
       "\n",
       "    .dataframe tbody tr th {\n",
       "        vertical-align: top;\n",
       "    }\n",
       "\n",
       "    .dataframe thead th {\n",
       "        text-align: right;\n",
       "    }\n",
       "</style>\n",
       "<table border=\"1\" class=\"dataframe\">\n",
       "  <thead>\n",
       "    <tr style=\"text-align: right;\">\n",
       "      <th></th>\n",
       "      <th>FoodGroup</th>\n",
       "      <th>Protein_g</th>\n",
       "      <th>VitA_mcg</th>\n",
       "      <th>NDB_No</th>\n",
       "      <th>Shrt_Desc</th>\n",
       "      <th>Vit_D_µg</th>\n",
       "      <th>Vit_E_(mg)</th>\n",
       "      <th>Vit_B12_(µg)</th>\n",
       "      <th>Vit_C_(mg)</th>\n",
       "      <th>Calcium_(mg)</th>\n",
       "      <th>Iron_(mg)</th>\n",
       "      <th>Potassium_(mg)</th>\n",
       "      <th>FA_Mono_(g)</th>\n",
       "      <th>Folate_Tot_(µg)</th>\n",
       "      <th>Nutrition Density</th>\n",
       "      <th>storage</th>\n",
       "      <th>Donation Score</th>\n",
       "    </tr>\n",
       "  </thead>\n",
       "  <tbody>\n",
       "    <tr>\n",
       "      <th>0</th>\n",
       "      <td>Dairy and Egg Products</td>\n",
       "      <td>0.85</td>\n",
       "      <td>684.0</td>\n",
       "      <td>1001</td>\n",
       "      <td>BUTTER,WITH SALT</td>\n",
       "      <td>0.0</td>\n",
       "      <td>2.32</td>\n",
       "      <td>0.17</td>\n",
       "      <td>0.0</td>\n",
       "      <td>24.0</td>\n",
       "      <td>0.02</td>\n",
       "      <td>24.0</td>\n",
       "      <td>21.021</td>\n",
       "      <td>3.0</td>\n",
       "      <td>1.833333</td>\n",
       "      <td>1.0</td>\n",
       "      <td>2.47</td>\n",
       "    </tr>\n",
       "    <tr>\n",
       "      <th>1</th>\n",
       "      <td>Dairy and Egg Products</td>\n",
       "      <td>0.85</td>\n",
       "      <td>684.0</td>\n",
       "      <td>1002</td>\n",
       "      <td>BUTTER,WHIPPED,W/ SALT</td>\n",
       "      <td>0.0</td>\n",
       "      <td>1.37</td>\n",
       "      <td>0.07</td>\n",
       "      <td>0.0</td>\n",
       "      <td>23.0</td>\n",
       "      <td>0.05</td>\n",
       "      <td>41.0</td>\n",
       "      <td>19.874</td>\n",
       "      <td>4.0</td>\n",
       "      <td>1.750000</td>\n",
       "      <td>1.0</td>\n",
       "      <td>2.40</td>\n",
       "    </tr>\n",
       "  </tbody>\n",
       "</table>\n",
       "</div>"
      ],
      "text/plain": [
       "                FoodGroup  Protein_g  VitA_mcg  NDB_No  \\\n",
       "0  Dairy and Egg Products       0.85     684.0    1001   \n",
       "1  Dairy and Egg Products       0.85     684.0    1002   \n",
       "\n",
       "                Shrt_Desc  Vit_D_µg  Vit_E_(mg)  Vit_B12_(µg)  Vit_C_(mg)  \\\n",
       "0        BUTTER,WITH SALT       0.0        2.32          0.17         0.0   \n",
       "1  BUTTER,WHIPPED,W/ SALT       0.0        1.37          0.07         0.0   \n",
       "\n",
       "   Calcium_(mg)  Iron_(mg)  Potassium_(mg)  FA_Mono_(g)  Folate_Tot_(µg)  \\\n",
       "0          24.0       0.02            24.0       21.021              3.0   \n",
       "1          23.0       0.05            41.0       19.874              4.0   \n",
       "\n",
       "   Nutrition Density  storage  Donation Score  \n",
       "0           1.833333      1.0            2.47  \n",
       "1           1.750000      1.0            2.40  "
      ]
     },
     "execution_count": 123,
     "metadata": {},
     "output_type": "execute_result"
    }
   ],
   "source": [
    "#standardize the daily values and storage, then add them to determind score\n",
    "scores = (final_df2['Nutrition Density'] -  final_df2['Nutrition Density'].mean())/ final_df2['Nutrition Density'].std() + \\\n",
    "                      (final_df2['storage'] - final_df2['storage'].mean())/final_df2['storage'].std()\n",
    "final_df2['Donation Score'] = round(scores + 3,2)\n",
    "\n",
    "#inspect df\n",
    "final_df2.head(2)"
   ]
  },
  {
   "cell_type": "code",
   "execution_count": 125,
   "id": "5aa18247-0b84-4f2b-a502-7d4154e0c4b7",
   "metadata": {},
   "outputs": [],
   "source": [
    "food_array=[]\n",
    "for item in final_df2['Shrt_Desc']:\n",
    "    item_list = item.split(\",\")\n",
    "    food_array.append(item_list)\n",
    "\n",
    "new_word =''\n",
    "new_list = []\n",
    "for lst in food_array:\n",
    "    for word in lst:\n",
    "        new_word += word + ' '\n",
    "        #print(new_word)\n",
    "    new_list.append(new_word[:-1])\n",
    "    new_word = ''\n",
    " "
   ]
  },
  {
   "cell_type": "code",
   "execution_count": 126,
   "id": "9f92b8b7-a2f4-4506-a9db-60b20b9d8101",
   "metadata": {},
   "outputs": [
    {
     "data": {
      "text/html": [
       "<div>\n",
       "<style scoped>\n",
       "    .dataframe tbody tr th:only-of-type {\n",
       "        vertical-align: middle;\n",
       "    }\n",
       "\n",
       "    .dataframe tbody tr th {\n",
       "        vertical-align: top;\n",
       "    }\n",
       "\n",
       "    .dataframe thead th {\n",
       "        text-align: right;\n",
       "    }\n",
       "</style>\n",
       "<table border=\"1\" class=\"dataframe\">\n",
       "  <thead>\n",
       "    <tr style=\"text-align: right;\">\n",
       "      <th></th>\n",
       "      <th>FoodGroup</th>\n",
       "      <th>Protein_g</th>\n",
       "      <th>VitA_mcg</th>\n",
       "      <th>NDB_No</th>\n",
       "      <th>Shrt_Desc</th>\n",
       "      <th>Vit_D_µg</th>\n",
       "      <th>Vit_E_(mg)</th>\n",
       "      <th>Vit_B12_(µg)</th>\n",
       "      <th>Vit_C_(mg)</th>\n",
       "      <th>Calcium_(mg)</th>\n",
       "      <th>Iron_(mg)</th>\n",
       "      <th>Potassium_(mg)</th>\n",
       "      <th>FA_Mono_(g)</th>\n",
       "      <th>Folate_Tot_(µg)</th>\n",
       "      <th>Nutrition Density</th>\n",
       "      <th>storage</th>\n",
       "      <th>Donation Score</th>\n",
       "      <th>Food Names</th>\n",
       "    </tr>\n",
       "  </thead>\n",
       "  <tbody>\n",
       "    <tr>\n",
       "      <th>0</th>\n",
       "      <td>Dairy and Egg Products</td>\n",
       "      <td>0.85</td>\n",
       "      <td>684.0</td>\n",
       "      <td>1001</td>\n",
       "      <td>BUTTER,WITH SALT</td>\n",
       "      <td>0.0</td>\n",
       "      <td>2.32</td>\n",
       "      <td>0.17</td>\n",
       "      <td>0.0</td>\n",
       "      <td>24.0</td>\n",
       "      <td>0.02</td>\n",
       "      <td>24.0</td>\n",
       "      <td>21.021</td>\n",
       "      <td>3.0</td>\n",
       "      <td>1.833333</td>\n",
       "      <td>1.0</td>\n",
       "      <td>2.47</td>\n",
       "      <td>BUTTER WITH SALT</td>\n",
       "    </tr>\n",
       "    <tr>\n",
       "      <th>1</th>\n",
       "      <td>Dairy and Egg Products</td>\n",
       "      <td>0.85</td>\n",
       "      <td>684.0</td>\n",
       "      <td>1002</td>\n",
       "      <td>BUTTER,WHIPPED,W/ SALT</td>\n",
       "      <td>0.0</td>\n",
       "      <td>1.37</td>\n",
       "      <td>0.07</td>\n",
       "      <td>0.0</td>\n",
       "      <td>23.0</td>\n",
       "      <td>0.05</td>\n",
       "      <td>41.0</td>\n",
       "      <td>19.874</td>\n",
       "      <td>4.0</td>\n",
       "      <td>1.750000</td>\n",
       "      <td>1.0</td>\n",
       "      <td>2.40</td>\n",
       "      <td>BUTTER WHIPPED W/ SALT</td>\n",
       "    </tr>\n",
       "    <tr>\n",
       "      <th>2</th>\n",
       "      <td>Dairy and Egg Products</td>\n",
       "      <td>0.28</td>\n",
       "      <td>840.0</td>\n",
       "      <td>1003</td>\n",
       "      <td>BUTTER OIL,ANHYDROUS</td>\n",
       "      <td>0.0</td>\n",
       "      <td>2.80</td>\n",
       "      <td>0.01</td>\n",
       "      <td>0.0</td>\n",
       "      <td>4.0</td>\n",
       "      <td>0.00</td>\n",
       "      <td>5.0</td>\n",
       "      <td>28.732</td>\n",
       "      <td>0.0</td>\n",
       "      <td>2.416667</td>\n",
       "      <td>1.0</td>\n",
       "      <td>2.98</td>\n",
       "      <td>BUTTER OIL ANHYDROUS</td>\n",
       "    </tr>\n",
       "    <tr>\n",
       "      <th>3</th>\n",
       "      <td>Dairy and Egg Products</td>\n",
       "      <td>21.40</td>\n",
       "      <td>198.0</td>\n",
       "      <td>1004</td>\n",
       "      <td>CHEESE,BLUE</td>\n",
       "      <td>0.5</td>\n",
       "      <td>0.25</td>\n",
       "      <td>1.22</td>\n",
       "      <td>0.0</td>\n",
       "      <td>528.0</td>\n",
       "      <td>0.31</td>\n",
       "      <td>256.0</td>\n",
       "      <td>7.778</td>\n",
       "      <td>36.0</td>\n",
       "      <td>2.416667</td>\n",
       "      <td>1.0</td>\n",
       "      <td>2.98</td>\n",
       "      <td>CHEESE BLUE</td>\n",
       "    </tr>\n",
       "    <tr>\n",
       "      <th>4</th>\n",
       "      <td>Dairy and Egg Products</td>\n",
       "      <td>23.24</td>\n",
       "      <td>292.0</td>\n",
       "      <td>1005</td>\n",
       "      <td>CHEESE,BRICK</td>\n",
       "      <td>0.5</td>\n",
       "      <td>0.26</td>\n",
       "      <td>1.26</td>\n",
       "      <td>0.0</td>\n",
       "      <td>674.0</td>\n",
       "      <td>0.43</td>\n",
       "      <td>136.0</td>\n",
       "      <td>8.598</td>\n",
       "      <td>20.0</td>\n",
       "      <td>2.666667</td>\n",
       "      <td>1.0</td>\n",
       "      <td>3.20</td>\n",
       "      <td>CHEESE BRICK</td>\n",
       "    </tr>\n",
       "  </tbody>\n",
       "</table>\n",
       "</div>"
      ],
      "text/plain": [
       "                FoodGroup  Protein_g  VitA_mcg  NDB_No  \\\n",
       "0  Dairy and Egg Products       0.85     684.0    1001   \n",
       "1  Dairy and Egg Products       0.85     684.0    1002   \n",
       "2  Dairy and Egg Products       0.28     840.0    1003   \n",
       "3  Dairy and Egg Products      21.40     198.0    1004   \n",
       "4  Dairy and Egg Products      23.24     292.0    1005   \n",
       "\n",
       "                Shrt_Desc  Vit_D_µg  Vit_E_(mg)  Vit_B12_(µg)  Vit_C_(mg)  \\\n",
       "0        BUTTER,WITH SALT       0.0        2.32          0.17         0.0   \n",
       "1  BUTTER,WHIPPED,W/ SALT       0.0        1.37          0.07         0.0   \n",
       "2    BUTTER OIL,ANHYDROUS       0.0        2.80          0.01         0.0   \n",
       "3             CHEESE,BLUE       0.5        0.25          1.22         0.0   \n",
       "4            CHEESE,BRICK       0.5        0.26          1.26         0.0   \n",
       "\n",
       "   Calcium_(mg)  Iron_(mg)  Potassium_(mg)  FA_Mono_(g)  Folate_Tot_(µg)  \\\n",
       "0          24.0       0.02            24.0       21.021              3.0   \n",
       "1          23.0       0.05            41.0       19.874              4.0   \n",
       "2           4.0       0.00             5.0       28.732              0.0   \n",
       "3         528.0       0.31           256.0        7.778             36.0   \n",
       "4         674.0       0.43           136.0        8.598             20.0   \n",
       "\n",
       "   Nutrition Density  storage  Donation Score              Food Names  \n",
       "0           1.833333      1.0            2.47        BUTTER WITH SALT  \n",
       "1           1.750000      1.0            2.40  BUTTER WHIPPED W/ SALT  \n",
       "2           2.416667      1.0            2.98    BUTTER OIL ANHYDROUS  \n",
       "3           2.416667      1.0            2.98             CHEESE BLUE  \n",
       "4           2.666667      1.0            3.20            CHEESE BRICK  "
      ]
     },
     "execution_count": 126,
     "metadata": {},
     "output_type": "execute_result"
    }
   ],
   "source": [
    "final_df2['Food Names'] = new_list\n",
    "final_df2.head()"
   ]
  },
  {
   "cell_type": "code",
   "execution_count": 127,
   "id": "70a49e7f-5e93-452b-a127-a2d39258ec71",
   "metadata": {},
   "outputs": [],
   "source": [
    "#final_df2.to_csv('food_score.csv')"
   ]
  },
  {
   "cell_type": "code",
   "execution_count": 76,
   "id": "cbcef7d6-2f27-4060-91d0-8fc08e335f0e",
   "metadata": {},
   "outputs": [
    {
     "data": {
      "text/plain": [
       "0"
      ]
     },
     "execution_count": 76,
     "metadata": {},
     "output_type": "execute_result"
    }
   ],
   "source": [
    "final_df2['Donation Score'].isna().sum() #0"
   ]
  },
  {
   "cell_type": "code",
   "execution_count": 77,
   "id": "6ad3749a-2122-40ed-9058-23fbc0be326a",
   "metadata": {},
   "outputs": [
    {
     "data": {
      "text/plain": [
       "<AxesSubplot:>"
      ]
     },
     "execution_count": 77,
     "metadata": {},
     "output_type": "execute_result"
    },
    {
     "data": {
      "image/png": "[encoded data removed]",
      "text/plain": [
       "<Figure size 432x288 with 2 Axes>"
      ]
     },
     "metadata": {
      "needs_background": "light"
     },
     "output_type": "display_data"
    }
   ],
   "source": [
    "#Use a heatmap to see which features are correlated to the score\n",
    "sns.heatmap(final_df2.corr()[['score']],annot = True)"
   ]
  },
  {
   "cell_type": "code",
   "execution_count": 129,
   "id": "fed7abac-c9ed-4a37-bb8d-94df29e8df8e",
   "metadata": {},
   "outputs": [
    {
     "data": {
      "image/png": "[encoded data removed]",
      "text/plain": [
       "<Figure size 432x288 with 1 Axes>"
      ]
     },
     "metadata": {
      "needs_background": "light"
     },
     "output_type": "display_data"
    }
   ],
   "source": [
    "plt.hist(final_df2['Donation Score'], label = 'Score')\n",
    "#plt.hist(final_df2['log_score'], label = 'Log score');\n",
    "#plt.hist(final_df2['sum_score'], label = 'sum score');\n",
    "plt.xlabel('Score');\n",
    "plt.ylabel('Frequency');\n",
    "plt.legend()\n",
    "plt.title('Frequency of Scores');"
   ]
  },
  {
   "cell_type": "markdown",
   "id": "28f87950-a45e-4bd6-91df-079e4ee36aaa",
   "metadata": {},
   "source": [
    "The graphs above shows that the log score has a more normal distribution than the original score. Moving forward, we'll predict the log score to have a normal distribution of errors after standardizing the daily value and storage of foods"
   ]
  },
  {
   "cell_type": "code",
   "execution_count": 79,
   "id": "eb1ec344-b958-4ba9-b219-f9e6c9641514",
   "metadata": {},
   "outputs": [
    {
     "data": {
      "text/plain": [
       "FoodGroup               0\n",
       "Protein_g               0\n",
       "VitA_mcg                0\n",
       "NDB_No                  0\n",
       "Shrt_Desc               0\n",
       "Vit_D_µg                0\n",
       "Vit_E_(mg)              0\n",
       "Vit_B12_(µg)            0\n",
       "Vit_C_(mg)              0\n",
       "Calcium_(mg)            0\n",
       "Iron_(mg)               0\n",
       "Potassium_(mg)          0\n",
       "FA_Mono_(g)             0\n",
       "Folate_Tot_(µg)         0\n",
       "Nutrition Density       0\n",
       "storage                 0\n",
       "score                   0\n",
       "log_score            2277\n",
       "dtype: int64"
      ]
     },
     "execution_count": 79,
     "metadata": {},
     "output_type": "execute_result"
    }
   ],
   "source": [
    "final_df2.isna().sum() # some na's because we have negetive scores after scaling"
   ]
  },
  {
   "cell_type": "markdown",
   "id": "fb9036fe-2adf-44e3-be57-d0bbb77261e3",
   "metadata": {},
   "source": [
    "### Determine baseline by predicting average score"
   ]
  },
  {
   "cell_type": "code",
   "execution_count": 130,
   "id": "97041e12-d0db-43f1-bed7-cf2f4c736228",
   "metadata": {
    "tags": []
   },
   "outputs": [
    {
     "data": {
      "text/plain": [
       "1.5108041992826275"
      ]
     },
     "execution_count": 130,
     "metadata": {},
     "output_type": "execute_result"
    }
   ],
   "source": [
    "y = final_df2['Donation Score']\n",
    "mean_squared_error(y, np.full_like(y,final_df2['Donation Score'].mean())) # 1.5"
   ]
  },
  {
   "cell_type": "markdown",
   "id": "2fbcd850-fddc-4f54-809e-c085cd8d84ab",
   "metadata": {},
   "source": [
    "### Apply all continuous features to linear regression pipeline"
   ]
  },
  {
   "cell_type": "code",
   "execution_count": 131,
   "id": "c92b5482-f487-4a2d-a896-37101e88bf67",
   "metadata": {
    "tags": []
   },
   "outputs": [
    {
     "data": {
      "text/plain": [
       "0.4945418866077491"
      ]
     },
     "execution_count": 131,
     "metadata": {},
     "output_type": "execute_result"
    }
   ],
   "source": [
    "#Assign X & Y\n",
    "X = final_df2[['Protein_g', 'VitA_mcg', 'Vit_D_µg','Vit_E_(mg)', 'Vit_B12_(µg)', 'Vit_C_(mg)', 'Calcium_(mg)', 'Iron_(mg)',\n",
    "       'Potassium_(mg)', 'FA_Mono_(g)', 'Folate_Tot_(µg)']]\n",
    "y = final_df2['Donation Score']\n",
    "\n",
    "#TTS\n",
    "X_train,X_test,y_train,y_test = train_test_split(X,y,random_state=518)\n",
    "\n",
    "#assign pip with SS\n",
    "pipe_lr = make_pipeline(StandardScaler(),\n",
    "                       LinearRegression())\n",
    "\n",
    "#fit pipe\n",
    "pipe_lr.fit(X_train,y_train)\n",
    "\n",
    "#score on trian \n",
    "pipe_lr.score(X_train,y_train) #505\n",
    "\n",
    "#score on test\n",
    "pipe_lr.score(X_test,y_test) #0.49"
   ]
  },
  {
   "cell_type": "markdown",
   "id": "3f16ca86-aaeb-4693-a0b3-483196ac6f57",
   "metadata": {},
   "source": [
    "The continuous features that were considred for the Daily Value of food don't seem to help performance when predicting the the nutrition score. Its better than th base but we can do better. We can add food group feature to see how the model performs."
   ]
  },
  {
   "cell_type": "markdown",
   "id": "1789a412-2d43-4104-866b-7621b78f1224",
   "metadata": {},
   "source": [
    "### Apply linear regression pipeline on entire dataset"
   ]
  },
  {
   "cell_type": "code",
   "execution_count": 132,
   "id": "fb4ee685-4f53-482c-8e95-d64737b4cae0",
   "metadata": {},
   "outputs": [
    {
     "name": "stderr",
     "output_type": "stream",
     "text": [
      "/Users/anthonyreid/opt/miniconda3/lib/python3.9/site-packages/category_encoders/utils.py:21: FutureWarning: is_categorical is deprecated and will be removed in a future version.  Use is_categorical_dtype instead\n",
      "  elif pd.api.types.is_categorical(cols):\n"
     ]
    },
    {
     "data": {
      "text/plain": [
       "0.7443833616105514"
      ]
     },
     "execution_count": 132,
     "metadata": {},
     "output_type": "execute_result"
    }
   ],
   "source": [
    "#Assign X & y \n",
    "X = final_df2[['FoodGroup','Protein_g', 'VitA_mcg', 'Vit_D_µg','Vit_E_(mg)', 'Vit_B12_(µg)', 'Vit_C_(mg)', 'Calcium_(mg)', 'Iron_(mg)',\n",
    "       'Potassium_(mg)', 'FA_Mono_(g)', 'Folate_Tot_(µg)']]\n",
    "y = final_df2['Donation Score']\n",
    "\n",
    "#TTS\n",
    "X_train,X_test,y_train,y_test = train_test_split(X,y,random_state=518)\n",
    "\n",
    "#Apply column transformer to food group\n",
    "trans_col = make_column_transformer((OneHotEncoder(use_cat_names=True), make_column_selector('FoodGroup')) )\n",
    "                                   \n",
    "#apply pipeline to w. SS\n",
    "pipe_lr = make_pipeline(trans_col,\n",
    "                        StandardScaler(),\n",
    "                       LinearRegression())\n",
    "#fit model\n",
    "pipe_lr.fit(X_train,y_train)\n",
    "\n",
    "#score on train \n",
    "pipe_lr.score(X_train,y_train) #0.7358\n",
    "\n",
    "#score on test\n",
    "pipe_lr.score(X_test,y_test) #0.74437"
   ]
  },
  {
   "cell_type": "markdown",
   "id": "0d3f871d-a438-4ece-a973-f4187932c5a7",
   "metadata": {},
   "source": [
    "Our initial prediction performs better than the base! We can build on this model to see what changes helps performance"
   ]
  },
  {
   "cell_type": "markdown",
   "id": "23967811-6ee6-4b36-ac02-d337eec9ef8e",
   "metadata": {},
   "source": [
    "### Apply Linear Regressor pipeline on foodgroup"
   ]
  },
  {
   "cell_type": "code",
   "execution_count": 133,
   "id": "8ee0feeb-8d40-4993-999d-08656edbeeb4",
   "metadata": {},
   "outputs": [
    {
     "name": "stderr",
     "output_type": "stream",
     "text": [
      "/Users/anthonyreid/opt/miniconda3/lib/python3.9/site-packages/category_encoders/utils.py:21: FutureWarning: is_categorical is deprecated and will be removed in a future version.  Use is_categorical_dtype instead\n",
      "  elif pd.api.types.is_categorical(cols):\n"
     ]
    },
    {
     "data": {
      "text/plain": [
       "0.7443833616105514"
      ]
     },
     "execution_count": 133,
     "metadata": {},
     "output_type": "execute_result"
    }
   ],
   "source": [
    "#Assign X & y\n",
    "X = final_df2[['FoodGroup']]\n",
    "y = final_df2['Donation Score']\n",
    "\n",
    "#check x\n",
    "X.head(2)\n",
    "\n",
    "#TTS\n",
    "X_train,X_test,y_train,y_test = train_test_split(X,y,random_state=518)\n",
    "\n",
    "#Select columns to OHE\n",
    "trans_col = make_column_transformer((OneHotEncoder(use_cat_names=True), make_column_selector('FoodGroup')) )\n",
    "                                   \n",
    "#pass through pipe!\n",
    "pipe_lr = make_pipeline(trans_col,\n",
    "                        StandardScaler(),\n",
    "                       LinearRegression())\n",
    "#fit pipe with data\n",
    "pipe_lr.fit(X_train,y_train)\n",
    "\n",
    "#score train data\n",
    "pipe_lr.score(X_train,y_train) #0.735\n",
    "\n",
    "#score test data\n",
    "pipe_lr.score(X_test,y_test) # 0.7443"
   ]
  },
  {
   "cell_type": "markdown",
   "id": "d440e620-9c90-4ce8-acb0-62c996015714",
   "metadata": {},
   "source": [
    "The linear regressor is a good predictor of nutition score and is better than the baseline accuracy, adding the continuous features didn't imporve prediction rate"
   ]
  },
  {
   "cell_type": "markdown",
   "id": "5bc87aa2-7dcd-4e39-9feb-7670362f1359",
   "metadata": {},
   "source": [
    "# Apply knn on all features (no pipe) Best Performance"
   ]
  },
  {
   "cell_type": "code",
   "execution_count": 21,
   "id": "56f9e314-4305-4bfd-b734-f37bec775b2f",
   "metadata": {},
   "outputs": [],
   "source": [
    "from sklearn.neighbors import KNeighborsRegressor"
   ]
  },
  {
   "cell_type": "code",
   "execution_count": 134,
   "id": "3d7f016d-1fb8-4783-b787-504e4cbe8416",
   "metadata": {},
   "outputs": [
    {
     "name": "stderr",
     "output_type": "stream",
     "text": [
      "/Users/anthonyreid/opt/miniconda3/lib/python3.9/site-packages/category_encoders/utils.py:21: FutureWarning: is_categorical is deprecated and will be removed in a future version.  Use is_categorical_dtype instead\n",
      "  elif pd.api.types.is_categorical(cols):\n"
     ]
    },
    {
     "data": {
      "text/plain": [
       "0.9623284695781201"
      ]
     },
     "execution_count": 134,
     "metadata": {},
     "output_type": "execute_result"
    }
   ],
   "source": [
    "# assign X &y\n",
    "X = final_df2[['FoodGroup','Protein_g', 'VitA_mcg', 'Vit_D_µg','Vit_E_(mg)', 'Vit_B12_(µg)', 'Vit_C_(mg)', 'Calcium_(mg)', 'Iron_(mg)',\n",
    "       'Potassium_(mg)', 'FA_Mono_(g)', 'Folate_Tot_(µg)']]\n",
    "y = final_df2['Donation Score']\n",
    "\n",
    "#TTS\n",
    "X_train,X_test,y_train,y_test = train_test_split(X,y,random_state=518)\n",
    "\n",
    "#apply OHE \n",
    "ohe = OneHotEncoder(use_cat_names=True)\n",
    "X_train_ohe = ohe.fit_transform(X_train)\n",
    "X_test_ohe = ohe.transform(X_test)\n",
    "\n",
    "#Apply SS to Data\n",
    "ss = StandardScaler()\n",
    "X_train_sc = ss.fit_transform(X_train_ohe)\n",
    "X_test_sc = ss.transform(X_test_ohe)\n",
    "\n",
    "#instantiate\n",
    "knn = KNeighborsRegressor()\n",
    "\n",
    "#fit\n",
    "knn.fit(X_train_sc, y_train)\n",
    "\n",
    "#score on train\n",
    "knn.score(X_train_sc, y_train) # 0.96\n",
    "\n",
    "#score on test\n",
    "knn.score(X_test_sc,y_test) #0.96"
   ]
  },
  {
   "cell_type": "markdown",
   "id": "49eaafd8-663b-41b0-9485-314ff8fb76a9",
   "metadata": {},
   "source": [
    "### Apply a knn on food group (no pipe)"
   ]
  },
  {
   "cell_type": "code",
   "execution_count": 135,
   "id": "1b0e4004-d9e9-4889-ad11-d55042e31b24",
   "metadata": {},
   "outputs": [
    {
     "name": "stderr",
     "output_type": "stream",
     "text": [
      "/Users/anthonyreid/opt/miniconda3/lib/python3.9/site-packages/category_encoders/utils.py:21: FutureWarning: is_categorical is deprecated and will be removed in a future version.  Use is_categorical_dtype instead\n",
      "  elif pd.api.types.is_categorical(cols):\n"
     ]
    },
    {
     "data": {
      "text/plain": [
       "0.6931102533838128"
      ]
     },
     "execution_count": 135,
     "metadata": {},
     "output_type": "execute_result"
    }
   ],
   "source": [
    "# assign X &y\n",
    "X = final_df2[['FoodGroup']]\n",
    "y = final_df2['Donation Score'] \n",
    "\n",
    "#TTS\n",
    "X_train,X_test,y_train,y_test = train_test_split(X,y,random_state=518)\n",
    "\n",
    "#apply OHE \n",
    "ohe = OneHotEncoder(use_cat_names=True)\n",
    "X_train_ohe = ohe.fit_transform(X_train)\n",
    "X_test_ohe = ohe.transform(X_test)\n",
    "\n",
    "#Apply SS to Data\n",
    "ss = StandardScaler()\n",
    "X_train_sc = ss.fit_transform(X_train_ohe)\n",
    "X_test_sc = ss.transform(X_test_ohe)\n",
    "\n",
    "#instantiate\n",
    "knn = KNeighborsRegressor()\n",
    "\n",
    "#fit\n",
    "knn.fit(X_train_sc, y_train)\n",
    "\n",
    "#score on train\n",
    "knn.score(X_train_sc, y_train) # 0.69\n",
    "\n",
    "#score on test\n",
    "knn.score(X_test_sc,y_test) #0.692"
   ]
  },
  {
   "cell_type": "markdown",
   "id": "7738912b-4d28-4c23-a307-4e47a7749dc4",
   "metadata": {},
   "source": [
    "Using a nearest neighbor works very well for foods that are similar to each other, our performance is higher than linear regression, it doesn't show signs of overfit because our test predictions are also high. "
   ]
  },
  {
   "cell_type": "markdown",
   "id": "c717dc87-f758-4a31-98dd-6a9fa0b57a82",
   "metadata": {},
   "source": [
    "### Applying linear regression without pipe (later pass through pickle)"
   ]
  },
  {
   "cell_type": "code",
   "execution_count": 136,
   "id": "50359d1a-428e-4ebc-8423-293d1b536d48",
   "metadata": {},
   "outputs": [
    {
     "name": "stderr",
     "output_type": "stream",
     "text": [
      "/Users/anthonyreid/opt/miniconda3/lib/python3.9/site-packages/category_encoders/utils.py:21: FutureWarning: is_categorical is deprecated and will be removed in a future version.  Use is_categorical_dtype instead\n",
      "  elif pd.api.types.is_categorical(cols):\n"
     ]
    },
    {
     "data": {
      "text/plain": [
       "0.9996920457720191"
      ]
     },
     "execution_count": 136,
     "metadata": {},
     "output_type": "execute_result"
    }
   ],
   "source": [
    "# assign X &y\n",
    "X = final_df2[['FoodGroup','Protein_g', 'VitA_mcg', 'Vit_D_µg','Vit_E_(mg)', 'Vit_B12_(µg)', 'Vit_C_(mg)', 'Calcium_(mg)', 'Iron_(mg)',\n",
    "       'Potassium_(mg)', 'FA_Mono_(g)', 'Folate_Tot_(µg)']]\n",
    "y = final_df2['Donation Score']\n",
    "\n",
    "#TTS\n",
    "X_train,X_test,y_train,y_test = train_test_split(X,y,random_state=518)\n",
    "\n",
    "#apply OHE \n",
    "ohe = OneHotEncoder(use_cat_names=True)\n",
    "X_train_ohe = ohe.fit_transform(X_train)\n",
    "X_test_ohe = ohe.transform(X_test)\n",
    "\n",
    "lr = LinearRegression()\n",
    "lr.fit(X_train_ohe,y_train)\n",
    "\n",
    "#score on train set\n",
    "lr.score(X_train_ohe,y_train) #0.735\n",
    "# score on test set\n",
    "lr.score(X_test_ohe,y_test) #0.99"
   ]
  },
  {
   "cell_type": "code",
   "execution_count": null,
   "id": "300e7b55-705e-4c01-b2fe-125d057207ac",
   "metadata": {},
   "outputs": [],
   "source": []
  },
  {
   "cell_type": "code",
   "execution_count": 137,
   "id": "8c643c7c-8c8d-44be-80a4-f1b85942c714",
   "metadata": {},
   "outputs": [
    {
     "name": "stderr",
     "output_type": "stream",
     "text": [
      "/Users/anthonyreid/opt/miniconda3/lib/python3.9/site-packages/category_encoders/utils.py:21: FutureWarning: is_categorical is deprecated and will be removed in a future version.  Use is_categorical_dtype instead\n",
      "  elif pd.api.types.is_categorical(cols):\n"
     ]
    },
    {
     "data": {
      "text/plain": [
       "0.7447735727836094"
      ]
     },
     "execution_count": 137,
     "metadata": {},
     "output_type": "execute_result"
    }
   ],
   "source": [
    "# assign X &y\n",
    "X = final_df2[['FoodGroup']]\n",
    "y = final_df2['Donation Score'] \n",
    "\n",
    "#TTS\n",
    "X_train,X_test,y_train,y_test = train_test_split(X,y,random_state=518)\n",
    "\n",
    "#apply OHE \n",
    "ohe = OneHotEncoder(use_cat_names=True)\n",
    "X_train_ohe = ohe.fit_transform(X_train)\n",
    "X_test_ohe = ohe.transform(X_test)\n",
    "\n",
    "lr = LinearRegression()\n",
    "lr.fit(X_train_ohe,y_train)\n",
    "\n",
    "#score on train set\n",
    "lr.score(X_train_ohe,y_train) #0.735\n",
    "# score on test set\n",
    "lr.score(X_test_ohe,y_test) #0.7447"
   ]
  },
  {
   "cell_type": "code",
   "execution_count": 53,
   "id": "0c4340aa-da07-43ae-8d43-c02bda549225",
   "metadata": {},
   "outputs": [
    {
     "data": {
      "text/plain": [
       "Text(0.5, 1.0, 'Predictions of scores')"
      ]
     },
     "execution_count": 53,
     "metadata": {},
     "output_type": "execute_result"
    },
    {
     "data": {
      "image/png": "[encoded data removed]",
      "text/plain": [
       "<Figure size 432x288 with 1 Axes>"
      ]
     },
     "metadata": {
      "needs_background": "light"
     },
     "output_type": "display_data"
    }
   ],
   "source": [
    "plt.bar(range(len(y_test)),y_test,label = 'true score')\n",
    "plt.bar(range(len(y_test)),lr.predict(X_test_ohe), label = 'predicted score')\n",
    "plt.xlabel('Specific food', size = 20)\n",
    "plt.ylabel('Standardized Score', size = 20)\n",
    "plt.legend()\n",
    "plt.title('Predictions of scores', size =20)"
   ]
  },
  {
   "cell_type": "code",
   "execution_count": 25,
   "id": "3f5b35fe-bad6-4cb0-9102-0148688f3703",
   "metadata": {},
   "outputs": [
    {
     "data": {
      "text/plain": [
       "array([3.64789392e+12, 3.64789392e+12, 3.64789392e+12, 3.64789392e+12,\n",
       "       3.64789392e+12, 3.64789392e+12, 3.64789392e+12, 3.64789392e+12,\n",
       "       3.64789392e+12, 3.64789392e+12, 3.64789392e+12, 3.64789392e+12,\n",
       "       3.64789392e+12, 3.64789392e+12, 3.64789392e+12, 3.64789392e+12,\n",
       "       3.64789392e+12, 3.64789392e+12, 3.64789392e+12, 3.64789392e+12,\n",
       "       3.64789392e+12, 3.64789392e+12, 3.64789392e+12, 3.64789392e+12,\n",
       "       3.64789392e+12])"
      ]
     },
     "execution_count": 25,
     "metadata": {},
     "output_type": "execute_result"
    }
   ],
   "source": [
    "#inspect ouputs\n",
    "lr.intercept_ # -73148585.8\n",
    "\n",
    "lr.coef_"
   ]
  },
  {
   "cell_type": "code",
   "execution_count": null,
   "id": "bd3108cc-7110-488d-960f-7fbaf12f4063",
   "metadata": {},
   "outputs": [],
   "source": []
  },
  {
   "cell_type": "code",
   "execution_count": null,
   "id": "03f8b52f-5943-40f6-94da-f45c578e35fb",
   "metadata": {},
   "outputs": [],
   "source": []
  },
  {
   "cell_type": "code",
   "execution_count": null,
   "id": "bbe73d2c-0b0b-4dbb-823a-51cb5a7181cd",
   "metadata": {},
   "outputs": [],
   "source": []
  },
  {
   "cell_type": "code",
   "execution_count": null,
   "id": "be8d8aa4-a518-44d5-b0dc-74d81b499697",
   "metadata": {},
   "outputs": [],
   "source": []
  },
  {
   "cell_type": "code",
   "execution_count": null,
   "id": "495ec5c0-2118-4f47-b238-5e933ce5217d",
   "metadata": {},
   "outputs": [],
   "source": []
  },
  {
   "cell_type": "code",
   "execution_count": null,
   "id": "5a6d844f-6679-4678-a3ff-899ee2cdd309",
   "metadata": {},
   "outputs": [],
   "source": []
  },
  {
   "cell_type": "code",
   "execution_count": null,
   "id": "e87cb683-8d7e-4c58-960e-0222b2c67fec",
   "metadata": {},
   "outputs": [],
   "source": []
  },
  {
   "cell_type": "code",
   "execution_count": null,
   "id": "78568961-9f9b-44a2-95d9-c901ee0ea9a1",
   "metadata": {},
   "outputs": [],
   "source": []
  }
 ],
 "metadata": {
  "kernelspec": {
   "display_name": "Python 3",
   "language": "python",
   "name": "python3"
  },
  "language_info": {
   "codemirror_mode": {
    "name": "ipython",
    "version": 3
   },
   "file_extension": ".py",
   "mimetype": "text/x-python",
   "name": "python",
   "nbconvert_exporter": "python",
   "pygments_lexer": "ipython3",
   "version": "3.9.1"
  }
 },
 "nbformat": 4,
 "nbformat_minor": 5
}
