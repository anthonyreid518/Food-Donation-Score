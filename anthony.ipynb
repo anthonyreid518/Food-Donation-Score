{
 "cells": [
  {
   "cell_type": "code",
   "execution_count": 2,
   "id": "6375e491-8120-404e-8452-da5bc49de402",
   "metadata": {},
   "outputs": [],
   "source": [
    "#this is a test"
   ]
  },
  {
   "cell_type": "code",
   "execution_count": null,
   "id": "d9b46274-bbda-41c2-a1cf-3282f811611b",
   "metadata": {},
   "outputs": [],
   "source": []
  },
  {
   "cell_type": "code",
   "execution_count": 3,
   "id": "c0005093-46c6-43b0-9912-9c025fb80dac",
   "metadata": {},
   "outputs": [],
   "source": [
    "a = 3"
   ]
  },
  {
   "cell_type": "code",
   "execution_count": 4,
   "id": "642a6bbc-20c0-49b8-9876-1268518e3aa5",
   "metadata": {},
   "outputs": [],
   "source": [
    "b = 67"
   ]
  },
  {
   "cell_type": "code",
   "execution_count": 5,
   "id": "4e262744-97ba-4118-9c14-a3b9b5ed8b12",
   "metadata": {},
   "outputs": [],
   "source": [
    "c = a+b"
   ]
  },
  {
   "cell_type": "code",
   "execution_count": 6,
   "id": "642fc049-87f2-4ea2-9bb8-21283e40c1d9",
   "metadata": {},
   "outputs": [
    {
     "data": {
      "text/plain": [
       "70"
      ]
     },
     "execution_count": 6,
     "metadata": {},
     "output_type": "execute_result"
    }
   ],
   "source": [
    "c"
   ]
  }
 ],
 "metadata": {
  "kernelspec": {
   "display_name": "Python 3",
   "language": "python",
   "name": "python3"
  },
  "language_info": {
   "codemirror_mode": {
    "name": "ipython",
    "version": 3
   },
   "file_extension": ".py",
   "mimetype": "text/x-python",
   "name": "python",
   "nbconvert_exporter": "python",
   "pygments_lexer": "ipython3",
   "version": "3.9.1"
  }
 },
 "nbformat": 4,
 "nbformat_minor": 5
}
