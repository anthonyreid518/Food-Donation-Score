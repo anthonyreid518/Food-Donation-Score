{
 "cells": [
  {
   "cell_type": "code",
   "execution_count": 1,
   "id": "8f5448f4-f302-4869-b4f9-9b3b71b7ca53",
   "metadata": {},
   "outputs": [],
   "source": [
    "import pandas as pd\n",
    "import numpy as np\n",
    "import matplotlib.pyplot as plt\n",
    "import math\n",
    "import seaborn as sns"
   ]
  },
  {
   "cell_type": "code",
   "execution_count": 2,
   "id": "045345ca-0be5-4e94-9b69-ef9abd2c7f5a",
   "metadata": {},
   "outputs": [],
   "source": [
    "df = pd.read_csv('https://query.data.world/s/4rc3ue7y43lgazmy44xhxpn32mfujo')"
   ]
  },
  {
   "cell_type": "code",
   "execution_count": 3,
   "id": "814d02f3-894a-4cae-8cff-4cb3b3970d77",
   "metadata": {
    "tags": []
   },
   "outputs": [
    {
     "data": {
      "text/html": [
       "<div>\n",
       "<style scoped>\n",
       "    .dataframe tbody tr th:only-of-type {\n",
       "        vertical-align: middle;\n",
       "    }\n",
       "\n",
       "    .dataframe tbody tr th {\n",
       "        vertical-align: top;\n",
       "    }\n",
       "\n",
       "    .dataframe thead th {\n",
       "        text-align: right;\n",
       "    }\n",
       "</style>\n",
       "<table border=\"1\" class=\"dataframe\">\n",
       "  <thead>\n",
       "    <tr style=\"text-align: right;\">\n",
       "      <th></th>\n",
       "      <th>ID</th>\n",
       "      <th>FoodGroup</th>\n",
       "      <th>ShortDescrip</th>\n",
       "      <th>Descrip</th>\n",
       "      <th>CommonName</th>\n",
       "      <th>MfgName</th>\n",
       "      <th>ScientificName</th>\n",
       "      <th>Energy_kcal</th>\n",
       "      <th>Protein_g</th>\n",
       "      <th>Fat_g</th>\n",
       "      <th>...</th>\n",
       "      <th>Folate_USRDA</th>\n",
       "      <th>Niacin_USRDA</th>\n",
       "      <th>Riboflavin_USRDA</th>\n",
       "      <th>Thiamin_USRDA</th>\n",
       "      <th>Calcium_USRDA</th>\n",
       "      <th>Copper_USRDA</th>\n",
       "      <th>Magnesium_USRDA</th>\n",
       "      <th>Phosphorus_USRDA</th>\n",
       "      <th>Selenium_USRDA</th>\n",
       "      <th>Zinc_USRDA</th>\n",
       "    </tr>\n",
       "  </thead>\n",
       "  <tbody>\n",
       "    <tr>\n",
       "      <th>0</th>\n",
       "      <td>1001</td>\n",
       "      <td>Dairy and Egg Products</td>\n",
       "      <td>BUTTER,WITH SALT</td>\n",
       "      <td>Butter, salted</td>\n",
       "      <td>NaN</td>\n",
       "      <td>NaN</td>\n",
       "      <td>NaN</td>\n",
       "      <td>717.0</td>\n",
       "      <td>0.85</td>\n",
       "      <td>81.11</td>\n",
       "      <td>...</td>\n",
       "      <td>0.0075</td>\n",
       "      <td>0.002625</td>\n",
       "      <td>0.026154</td>\n",
       "      <td>0.004167</td>\n",
       "      <td>0.020000</td>\n",
       "      <td>0.000000</td>\n",
       "      <td>0.004762</td>\n",
       "      <td>0.034286</td>\n",
       "      <td>0.018182</td>\n",
       "      <td>0.008182</td>\n",
       "    </tr>\n",
       "    <tr>\n",
       "      <th>1</th>\n",
       "      <td>1002</td>\n",
       "      <td>Dairy and Egg Products</td>\n",
       "      <td>BUTTER,WHIPPED,WITH SALT</td>\n",
       "      <td>Butter, whipped, with salt</td>\n",
       "      <td>NaN</td>\n",
       "      <td>NaN</td>\n",
       "      <td>NaN</td>\n",
       "      <td>717.0</td>\n",
       "      <td>0.85</td>\n",
       "      <td>81.11</td>\n",
       "      <td>...</td>\n",
       "      <td>0.0075</td>\n",
       "      <td>0.002625</td>\n",
       "      <td>0.026154</td>\n",
       "      <td>0.004167</td>\n",
       "      <td>0.020000</td>\n",
       "      <td>0.000018</td>\n",
       "      <td>0.004762</td>\n",
       "      <td>0.032857</td>\n",
       "      <td>0.018182</td>\n",
       "      <td>0.004545</td>\n",
       "    </tr>\n",
       "    <tr>\n",
       "      <th>2</th>\n",
       "      <td>1003</td>\n",
       "      <td>Dairy and Egg Products</td>\n",
       "      <td>BUTTER OIL,ANHYDROUS</td>\n",
       "      <td>Butter oil, anhydrous</td>\n",
       "      <td>NaN</td>\n",
       "      <td>NaN</td>\n",
       "      <td>NaN</td>\n",
       "      <td>876.0</td>\n",
       "      <td>0.28</td>\n",
       "      <td>99.48</td>\n",
       "      <td>...</td>\n",
       "      <td>0.0000</td>\n",
       "      <td>0.000188</td>\n",
       "      <td>0.003846</td>\n",
       "      <td>0.000833</td>\n",
       "      <td>0.003333</td>\n",
       "      <td>0.000001</td>\n",
       "      <td>0.000000</td>\n",
       "      <td>0.004286</td>\n",
       "      <td>0.000000</td>\n",
       "      <td>0.000909</td>\n",
       "    </tr>\n",
       "  </tbody>\n",
       "</table>\n",
       "<p>3 rows × 45 columns</p>\n",
       "</div>"
      ],
      "text/plain": [
       "     ID               FoodGroup              ShortDescrip  \\\n",
       "0  1001  Dairy and Egg Products          BUTTER,WITH SALT   \n",
       "1  1002  Dairy and Egg Products  BUTTER,WHIPPED,WITH SALT   \n",
       "2  1003  Dairy and Egg Products      BUTTER OIL,ANHYDROUS   \n",
       "\n",
       "                      Descrip CommonName MfgName ScientificName  Energy_kcal  \\\n",
       "0              Butter, salted        NaN     NaN            NaN        717.0   \n",
       "1  Butter, whipped, with salt        NaN     NaN            NaN        717.0   \n",
       "2       Butter oil, anhydrous        NaN     NaN            NaN        876.0   \n",
       "\n",
       "   Protein_g  Fat_g  ...  Folate_USRDA  Niacin_USRDA  Riboflavin_USRDA  \\\n",
       "0       0.85  81.11  ...        0.0075      0.002625          0.026154   \n",
       "1       0.85  81.11  ...        0.0075      0.002625          0.026154   \n",
       "2       0.28  99.48  ...        0.0000      0.000188          0.003846   \n",
       "\n",
       "   Thiamin_USRDA  Calcium_USRDA  Copper_USRDA  Magnesium_USRDA  \\\n",
       "0       0.004167       0.020000      0.000000         0.004762   \n",
       "1       0.004167       0.020000      0.000018         0.004762   \n",
       "2       0.000833       0.003333      0.000001         0.000000   \n",
       "\n",
       "   Phosphorus_USRDA  Selenium_USRDA  Zinc_USRDA  \n",
       "0          0.034286        0.018182    0.008182  \n",
       "1          0.032857        0.018182    0.004545  \n",
       "2          0.004286        0.000000    0.000909  \n",
       "\n",
       "[3 rows x 45 columns]"
      ]
     },
     "execution_count": 3,
     "metadata": {},
     "output_type": "execute_result"
    }
   ],
   "source": [
    "df.head(3)"
   ]
  },
  {
   "cell_type": "code",
   "execution_count": 4,
   "id": "f81cdc61-e052-4baa-9e5f-56270eed88fe",
   "metadata": {
    "tags": []
   },
   "outputs": [
    {
     "data": {
      "text/plain": [
       "Beef Products                          946\n",
       "Vegetables and Vegetable Products      828\n",
       "Baked Products                         797\n",
       "Soups, Sauces, and Gravies             452\n",
       "Lamb, Veal, and Game Products          438\n",
       "Poultry Products                       390\n",
       "Legumes and Legume Products            389\n",
       "Fast Foods                             371\n",
       "Breakfast Cereals                      363\n",
       "Baby Foods                             362\n",
       "Sweets                                 347\n",
       "Fruits and Fruit Juices                346\n",
       "Pork Products                          343\n",
       "Beverages                              315\n",
       "Finfish and Shellfish Products         267\n",
       "Dairy and Egg Products                 264\n",
       "Sausages and Luncheon Meats            244\n",
       "Fats and Oils                          219\n",
       "Cereal Grains and Pasta                183\n",
       "Snacks                                 171\n",
       "American Indian/Alaska Native Foods    165\n",
       "Nut and Seed Products                  133\n",
       "Meals, Entrees, and Side Dishes        113\n",
       "Restaurant Foods                       108\n",
       "Spices and Herbs                        64\n",
       "Name: FoodGroup, dtype: int64"
      ]
     },
     "execution_count": 4,
     "metadata": {},
     "output_type": "execute_result"
    }
   ],
   "source": [
    "df['FoodGroup'].value_counts()"
   ]
  },
  {
   "cell_type": "code",
   "execution_count": 5,
   "id": "05da7fa1-e699-4d4a-8d8a-bbbee49ef2b2",
   "metadata": {
    "tags": []
   },
   "outputs": [
    {
     "name": "stdout",
     "output_type": "stream",
     "text": [
      "<class 'pandas.core.frame.DataFrame'>\n",
      "RangeIndex: 8618 entries, 0 to 8617\n",
      "Data columns (total 45 columns):\n",
      " #   Column            Non-Null Count  Dtype  \n",
      "---  ------            --------------  -----  \n",
      " 0   ID                8618 non-null   int64  \n",
      " 1   FoodGroup         8618 non-null   object \n",
      " 2   ShortDescrip      8618 non-null   object \n",
      " 3   Descrip           8618 non-null   object \n",
      " 4   CommonName        1063 non-null   object \n",
      " 5   MfgName           1560 non-null   object \n",
      " 6   ScientificName    732 non-null    object \n",
      " 7   Energy_kcal       8618 non-null   float64\n",
      " 8   Protein_g         8618 non-null   float64\n",
      " 9   Fat_g             8618 non-null   float64\n",
      " 10  Carb_g            8618 non-null   float64\n",
      " 11  Sugar_g           8618 non-null   float64\n",
      " 12  Fiber_g           8618 non-null   float64\n",
      " 13  VitA_mcg          8618 non-null   float64\n",
      " 14  VitB6_mg          8618 non-null   float64\n",
      " 15  VitB12_mcg        8618 non-null   float64\n",
      " 16  VitC_mg           8618 non-null   float64\n",
      " 17  VitE_mg           8618 non-null   float64\n",
      " 18  Folate_mcg        8618 non-null   float64\n",
      " 19  Niacin_mg         8618 non-null   float64\n",
      " 20  Riboflavin_mg     8618 non-null   float64\n",
      " 21  Thiamin_mg        8618 non-null   float64\n",
      " 22  Calcium_mg        8618 non-null   float64\n",
      " 23  Copper_mcg        8618 non-null   float64\n",
      " 24  Iron_mg           8618 non-null   float64\n",
      " 25  Magnesium_mg      8618 non-null   float64\n",
      " 26  Manganese_mg      8618 non-null   float64\n",
      " 27  Phosphorus_mg     8618 non-null   float64\n",
      " 28  Selenium_mcg      8618 non-null   float64\n",
      " 29  Zinc_mg           8618 non-null   float64\n",
      " 30  VitA_USRDA        8618 non-null   float64\n",
      " 31  VitB6_USRDA       8618 non-null   float64\n",
      " 32  VitB12_USRDA      8618 non-null   float64\n",
      " 33  VitC_USRDA        8618 non-null   float64\n",
      " 34  VitE_USRDA        8618 non-null   float64\n",
      " 35  Folate_USRDA      8618 non-null   float64\n",
      " 36  Niacin_USRDA      8618 non-null   float64\n",
      " 37  Riboflavin_USRDA  8618 non-null   float64\n",
      " 38  Thiamin_USRDA     8618 non-null   float64\n",
      " 39  Calcium_USRDA     8618 non-null   float64\n",
      " 40  Copper_USRDA      8618 non-null   float64\n",
      " 41  Magnesium_USRDA   8618 non-null   float64\n",
      " 42  Phosphorus_USRDA  8618 non-null   float64\n",
      " 43  Selenium_USRDA    8618 non-null   float64\n",
      " 44  Zinc_USRDA        8618 non-null   float64\n",
      "dtypes: float64(38), int64(1), object(6)\n",
      "memory usage: 3.0+ MB\n"
     ]
    }
   ],
   "source": [
    "df.info()"
   ]
  },
  {
   "cell_type": "code",
   "execution_count": 6,
   "id": "6e378d05-a4aa-4099-ae9e-9eaaa2e6fb15",
   "metadata": {
    "tags": []
   },
   "outputs": [
    {
     "data": {
      "text/html": [
       "<div>\n",
       "<style scoped>\n",
       "    .dataframe tbody tr th:only-of-type {\n",
       "        vertical-align: middle;\n",
       "    }\n",
       "\n",
       "    .dataframe tbody tr th {\n",
       "        vertical-align: top;\n",
       "    }\n",
       "\n",
       "    .dataframe thead th {\n",
       "        text-align: right;\n",
       "    }\n",
       "</style>\n",
       "<table border=\"1\" class=\"dataframe\">\n",
       "  <thead>\n",
       "    <tr style=\"text-align: right;\">\n",
       "      <th></th>\n",
       "      <th>NDB_No</th>\n",
       "      <th>Shrt_Desc</th>\n",
       "      <th>Water_(g)</th>\n",
       "      <th>Energ_Kcal</th>\n",
       "      <th>Protein_(g)</th>\n",
       "      <th>Lipid_Tot_(g)</th>\n",
       "      <th>Ash_(g)</th>\n",
       "      <th>Carbohydrt_(g)</th>\n",
       "      <th>Fiber_TD_(g)</th>\n",
       "      <th>Sugar_Tot_(g)</th>\n",
       "      <th>...</th>\n",
       "      <th>Vit_K_(µg)</th>\n",
       "      <th>FA_Sat_(g)</th>\n",
       "      <th>FA_Mono_(g)</th>\n",
       "      <th>FA_Poly_(g)</th>\n",
       "      <th>Cholestrl_(mg)</th>\n",
       "      <th>GmWt_1</th>\n",
       "      <th>GmWt_Desc1</th>\n",
       "      <th>GmWt_2</th>\n",
       "      <th>GmWt_Desc2</th>\n",
       "      <th>Refuse_Pct</th>\n",
       "    </tr>\n",
       "  </thead>\n",
       "  <tbody>\n",
       "    <tr>\n",
       "      <th>0</th>\n",
       "      <td>1001</td>\n",
       "      <td>BUTTER,WITH SALT</td>\n",
       "      <td>15.87</td>\n",
       "      <td>717</td>\n",
       "      <td>0.85</td>\n",
       "      <td>81.11</td>\n",
       "      <td>2.11</td>\n",
       "      <td>0.06</td>\n",
       "      <td>0.0</td>\n",
       "      <td>0.06</td>\n",
       "      <td>...</td>\n",
       "      <td>7.0</td>\n",
       "      <td>51.368</td>\n",
       "      <td>21.021</td>\n",
       "      <td>3.043</td>\n",
       "      <td>215.0</td>\n",
       "      <td>5.0</td>\n",
       "      <td>1 pat,  (1\" sq, 1/3\" high)</td>\n",
       "      <td>14.2</td>\n",
       "      <td>1 tbsp</td>\n",
       "      <td>0.0</td>\n",
       "    </tr>\n",
       "    <tr>\n",
       "      <th>1</th>\n",
       "      <td>1002</td>\n",
       "      <td>BUTTER,WHIPPED,W/ SALT</td>\n",
       "      <td>16.72</td>\n",
       "      <td>718</td>\n",
       "      <td>0.49</td>\n",
       "      <td>78.30</td>\n",
       "      <td>1.62</td>\n",
       "      <td>2.87</td>\n",
       "      <td>0.0</td>\n",
       "      <td>0.06</td>\n",
       "      <td>...</td>\n",
       "      <td>4.6</td>\n",
       "      <td>45.390</td>\n",
       "      <td>19.874</td>\n",
       "      <td>3.331</td>\n",
       "      <td>225.0</td>\n",
       "      <td>3.8</td>\n",
       "      <td>1 pat,  (1\" sq, 1/3\" high)</td>\n",
       "      <td>9.4</td>\n",
       "      <td>1 tbsp</td>\n",
       "      <td>0.0</td>\n",
       "    </tr>\n",
       "    <tr>\n",
       "      <th>2</th>\n",
       "      <td>1003</td>\n",
       "      <td>BUTTER OIL,ANHYDROUS</td>\n",
       "      <td>0.24</td>\n",
       "      <td>876</td>\n",
       "      <td>0.28</td>\n",
       "      <td>99.48</td>\n",
       "      <td>0.00</td>\n",
       "      <td>0.00</td>\n",
       "      <td>0.0</td>\n",
       "      <td>0.00</td>\n",
       "      <td>...</td>\n",
       "      <td>8.6</td>\n",
       "      <td>61.924</td>\n",
       "      <td>28.732</td>\n",
       "      <td>3.694</td>\n",
       "      <td>256.0</td>\n",
       "      <td>12.8</td>\n",
       "      <td>1 tbsp</td>\n",
       "      <td>205.0</td>\n",
       "      <td>1 cup</td>\n",
       "      <td>0.0</td>\n",
       "    </tr>\n",
       "  </tbody>\n",
       "</table>\n",
       "<p>3 rows × 53 columns</p>\n",
       "</div>"
      ],
      "text/plain": [
       "   NDB_No               Shrt_Desc  Water_(g)  Energ_Kcal  Protein_(g)  \\\n",
       "0    1001        BUTTER,WITH SALT      15.87         717         0.85   \n",
       "1    1002  BUTTER,WHIPPED,W/ SALT      16.72         718         0.49   \n",
       "2    1003    BUTTER OIL,ANHYDROUS       0.24         876         0.28   \n",
       "\n",
       "   Lipid_Tot_(g)  Ash_(g)  Carbohydrt_(g)  Fiber_TD_(g)  Sugar_Tot_(g)  ...  \\\n",
       "0          81.11     2.11            0.06           0.0           0.06  ...   \n",
       "1          78.30     1.62            2.87           0.0           0.06  ...   \n",
       "2          99.48     0.00            0.00           0.0           0.00  ...   \n",
       "\n",
       "   Vit_K_(µg)  FA_Sat_(g)  FA_Mono_(g)  FA_Poly_(g)  Cholestrl_(mg)  GmWt_1  \\\n",
       "0         7.0      51.368       21.021        3.043           215.0     5.0   \n",
       "1         4.6      45.390       19.874        3.331           225.0     3.8   \n",
       "2         8.6      61.924       28.732        3.694           256.0    12.8   \n",
       "\n",
       "                   GmWt_Desc1  GmWt_2  GmWt_Desc2  Refuse_Pct  \n",
       "0  1 pat,  (1\" sq, 1/3\" high)    14.2      1 tbsp         0.0  \n",
       "1  1 pat,  (1\" sq, 1/3\" high)     9.4      1 tbsp         0.0  \n",
       "2                      1 tbsp   205.0       1 cup         0.0  \n",
       "\n",
       "[3 rows x 53 columns]"
      ]
     },
     "execution_count": 6,
     "metadata": {},
     "output_type": "execute_result"
    }
   ],
   "source": [
    "df_new = pd.read_excel('https://query.data.world/s/twh3fzbktso2x5z5dlr7yal2ntdfks')\n",
    "df_new.head(3)"
   ]
  },
  {
   "cell_type": "code",
   "execution_count": 7,
   "id": "8f91b755-f82a-40fe-90de-7e2323b3c87a",
   "metadata": {},
   "outputs": [],
   "source": [
    "#merge the both DF's \n",
    "final_df = pd.merge(left=df[['ID', 'FoodGroup', 'CommonName','Fat_g']], \n",
    "                    right=df_new,\n",
    "                    left_on = 'ID',\n",
    "                    right_on ='NDB_No', \n",
    "                    how='right').drop(columns='ID')"
   ]
  },
  {
   "cell_type": "code",
   "execution_count": 8,
   "id": "a4b348d8-f648-4fd4-ac44-7658470d9d3d",
   "metadata": {
    "tags": []
   },
   "outputs": [
    {
     "data": {
      "text/plain": [
       "FoodGroup             371\n",
       "CommonName           7741\n",
       "Fat_g                 371\n",
       "NDB_No                  0\n",
       "Shrt_Desc               0\n",
       "Water_(g)               1\n",
       "Energ_Kcal              0\n",
       "Protein_(g)             0\n",
       "Lipid_Tot_(g)           0\n",
       "Ash_(g)               325\n",
       "Carbohydrt_(g)          0\n",
       "Fiber_TD_(g)          594\n",
       "Sugar_Tot_(g)        1832\n",
       "Calcium_(mg)          348\n",
       "Iron_(mg)             144\n",
       "Magnesium_(mg)        739\n",
       "Phosphorus_(mg)       579\n",
       "Potassium_(mg)        426\n",
       "Sodium_(mg)            83\n",
       "Zinc_(mg)             706\n",
       "Copper_mg)           1257\n",
       "Manganese_(mg)       2160\n",
       "Selenium_(µg)        1700\n",
       "Vit_C_(mg)            818\n",
       "Thiamin_(mg)          634\n",
       "Riboflavin_(mg)       616\n",
       "Niacin_(mg)           637\n",
       "Panto_Acid_mg)       2242\n",
       "Vit_B6_(mg)           905\n",
       "Folate_Tot_(µg)      1261\n",
       "Folic_Acid_(µg)      2039\n",
       "Food_Folate_(µg)     1768\n",
       "Folate_DFE_(µg)      2057\n",
       "Choline_Tot_ (mg)    4016\n",
       "Vit_B12_(µg)         1193\n",
       "Vit_A_IU              711\n",
       "Vit_A_RAE            1535\n",
       "Retinol_(µg)         1806\n",
       "Alpha_Carot_(µg)     3258\n",
       "Beta_Carot_(µg)      3162\n",
       "Beta_Crypt_(µg)      3270\n",
       "Lycopene_(µg)        3292\n",
       "Lut+Zea_ (µg)        3315\n",
       "Vit_E_(mg)           2889\n",
       "Vit_D_µg             3262\n",
       "Vit_D_IU             3211\n",
       "Vit_K_(µg)           3563\n",
       "FA_Sat_(g)            349\n",
       "FA_Mono_(g)           666\n",
       "FA_Poly_(g)           665\n",
       "Cholestrl_(mg)        410\n",
       "GmWt_1                300\n",
       "GmWt_Desc1            299\n",
       "GmWt_2               3965\n",
       "GmWt_Desc2           3965\n",
       "Refuse_Pct             50\n",
       "dtype: int64"
      ]
     },
     "execution_count": 8,
     "metadata": {},
     "output_type": "execute_result"
    }
   ],
   "source": [
    "final_df.isna().sum()"
   ]
  },
  {
   "cell_type": "code",
   "execution_count": 9,
   "id": "0dc987c4-dc8c-41b9-892b-58c56590fb19",
   "metadata": {},
   "outputs": [],
   "source": [
    "from sklearn.impute import SimpleImputer"
   ]
  },
  {
   "cell_type": "code",
   "execution_count": 10,
   "id": "5285e53f-c558-44ca-abce-940c3f35e36a",
   "metadata": {},
   "outputs": [
    {
     "data": {
      "text/plain": [
       "SimpleImputer(strategy='most_frequent')"
      ]
     },
     "execution_count": 10,
     "metadata": {},
     "output_type": "execute_result"
    }
   ],
   "source": [
    "#simple impute the missing data with the most frequent\n",
    "imp = SimpleImputer(missing_values=np.nan,strategy='most_frequent')\n",
    "imp.fit(final_df)"
   ]
  },
  {
   "cell_type": "code",
   "execution_count": 11,
   "id": "93dba027-2865-48ea-8bbe-a3ee317caf4b",
   "metadata": {
    "tags": []
   },
   "outputs": [],
   "source": [
    "#assign to new df\n",
    "final_df = pd.DataFrame(imp.transform(final_df),columns=final_df.columns)"
   ]
  },
  {
   "cell_type": "code",
   "execution_count": 12,
   "id": "ce17fa56-843d-4f6c-9f2b-290c3fd8152f",
   "metadata": {},
   "outputs": [
    {
     "data": {
      "text/html": [
       "<div>\n",
       "<style scoped>\n",
       "    .dataframe tbody tr th:only-of-type {\n",
       "        vertical-align: middle;\n",
       "    }\n",
       "\n",
       "    .dataframe tbody tr th {\n",
       "        vertical-align: top;\n",
       "    }\n",
       "\n",
       "    .dataframe thead th {\n",
       "        text-align: right;\n",
       "    }\n",
       "</style>\n",
       "<table border=\"1\" class=\"dataframe\">\n",
       "  <thead>\n",
       "    <tr style=\"text-align: right;\">\n",
       "      <th></th>\n",
       "      <th>FoodGroup</th>\n",
       "      <th>CommonName</th>\n",
       "      <th>Fat_g</th>\n",
       "      <th>NDB_No</th>\n",
       "      <th>Shrt_Desc</th>\n",
       "      <th>Water_(g)</th>\n",
       "      <th>Energ_Kcal</th>\n",
       "      <th>Protein_(g)</th>\n",
       "      <th>Lipid_Tot_(g)</th>\n",
       "      <th>Ash_(g)</th>\n",
       "      <th>...</th>\n",
       "      <th>Vit_K_(µg)</th>\n",
       "      <th>FA_Sat_(g)</th>\n",
       "      <th>FA_Mono_(g)</th>\n",
       "      <th>FA_Poly_(g)</th>\n",
       "      <th>Cholestrl_(mg)</th>\n",
       "      <th>GmWt_1</th>\n",
       "      <th>GmWt_Desc1</th>\n",
       "      <th>GmWt_2</th>\n",
       "      <th>GmWt_Desc2</th>\n",
       "      <th>Refuse_Pct</th>\n",
       "    </tr>\n",
       "  </thead>\n",
       "  <tbody>\n",
       "    <tr>\n",
       "      <th>0</th>\n",
       "      <td>Dairy and Egg Products</td>\n",
       "      <td>hamburger</td>\n",
       "      <td>81.11</td>\n",
       "      <td>1001</td>\n",
       "      <td>BUTTER,WITH SALT</td>\n",
       "      <td>15.87</td>\n",
       "      <td>717</td>\n",
       "      <td>0.85</td>\n",
       "      <td>81.11</td>\n",
       "      <td>2.11</td>\n",
       "      <td>...</td>\n",
       "      <td>7.0</td>\n",
       "      <td>51.368</td>\n",
       "      <td>21.021</td>\n",
       "      <td>3.043</td>\n",
       "      <td>215.0</td>\n",
       "      <td>5.0</td>\n",
       "      <td>1 pat,  (1\" sq, 1/3\" high)</td>\n",
       "      <td>14.2</td>\n",
       "      <td>1 tbsp</td>\n",
       "      <td>0.0</td>\n",
       "    </tr>\n",
       "    <tr>\n",
       "      <th>1</th>\n",
       "      <td>Dairy and Egg Products</td>\n",
       "      <td>hamburger</td>\n",
       "      <td>81.11</td>\n",
       "      <td>1002</td>\n",
       "      <td>BUTTER,WHIPPED,W/ SALT</td>\n",
       "      <td>16.72</td>\n",
       "      <td>718</td>\n",
       "      <td>0.49</td>\n",
       "      <td>78.3</td>\n",
       "      <td>1.62</td>\n",
       "      <td>...</td>\n",
       "      <td>4.6</td>\n",
       "      <td>45.39</td>\n",
       "      <td>19.874</td>\n",
       "      <td>3.331</td>\n",
       "      <td>225.0</td>\n",
       "      <td>3.8</td>\n",
       "      <td>1 pat,  (1\" sq, 1/3\" high)</td>\n",
       "      <td>9.4</td>\n",
       "      <td>1 tbsp</td>\n",
       "      <td>0.0</td>\n",
       "    </tr>\n",
       "    <tr>\n",
       "      <th>2</th>\n",
       "      <td>Dairy and Egg Products</td>\n",
       "      <td>hamburger</td>\n",
       "      <td>99.48</td>\n",
       "      <td>1003</td>\n",
       "      <td>BUTTER OIL,ANHYDROUS</td>\n",
       "      <td>0.24</td>\n",
       "      <td>876</td>\n",
       "      <td>0.28</td>\n",
       "      <td>99.48</td>\n",
       "      <td>0.0</td>\n",
       "      <td>...</td>\n",
       "      <td>8.6</td>\n",
       "      <td>61.924</td>\n",
       "      <td>28.732</td>\n",
       "      <td>3.694</td>\n",
       "      <td>256.0</td>\n",
       "      <td>12.8</td>\n",
       "      <td>1 tbsp</td>\n",
       "      <td>205.0</td>\n",
       "      <td>1 cup</td>\n",
       "      <td>0.0</td>\n",
       "    </tr>\n",
       "    <tr>\n",
       "      <th>3</th>\n",
       "      <td>Dairy and Egg Products</td>\n",
       "      <td>hamburger</td>\n",
       "      <td>28.74</td>\n",
       "      <td>1004</td>\n",
       "      <td>CHEESE,BLUE</td>\n",
       "      <td>42.41</td>\n",
       "      <td>353</td>\n",
       "      <td>21.4</td>\n",
       "      <td>28.74</td>\n",
       "      <td>5.11</td>\n",
       "      <td>...</td>\n",
       "      <td>2.4</td>\n",
       "      <td>18.669</td>\n",
       "      <td>7.778</td>\n",
       "      <td>0.8</td>\n",
       "      <td>75.0</td>\n",
       "      <td>28.35</td>\n",
       "      <td>1 oz</td>\n",
       "      <td>17.0</td>\n",
       "      <td>1 cubic inch</td>\n",
       "      <td>0.0</td>\n",
       "    </tr>\n",
       "    <tr>\n",
       "      <th>4</th>\n",
       "      <td>Dairy and Egg Products</td>\n",
       "      <td>hamburger</td>\n",
       "      <td>29.68</td>\n",
       "      <td>1005</td>\n",
       "      <td>CHEESE,BRICK</td>\n",
       "      <td>41.11</td>\n",
       "      <td>371</td>\n",
       "      <td>23.24</td>\n",
       "      <td>29.68</td>\n",
       "      <td>3.18</td>\n",
       "      <td>...</td>\n",
       "      <td>2.5</td>\n",
       "      <td>18.764</td>\n",
       "      <td>8.598</td>\n",
       "      <td>0.784</td>\n",
       "      <td>94.0</td>\n",
       "      <td>132.0</td>\n",
       "      <td>1 cup, diced</td>\n",
       "      <td>113.0</td>\n",
       "      <td>1 cup, shredded</td>\n",
       "      <td>0.0</td>\n",
       "    </tr>\n",
       "  </tbody>\n",
       "</table>\n",
       "<p>5 rows × 56 columns</p>\n",
       "</div>"
      ],
      "text/plain": [
       "                FoodGroup CommonName  Fat_g NDB_No               Shrt_Desc  \\\n",
       "0  Dairy and Egg Products  hamburger  81.11   1001        BUTTER,WITH SALT   \n",
       "1  Dairy and Egg Products  hamburger  81.11   1002  BUTTER,WHIPPED,W/ SALT   \n",
       "2  Dairy and Egg Products  hamburger  99.48   1003    BUTTER OIL,ANHYDROUS   \n",
       "3  Dairy and Egg Products  hamburger  28.74   1004             CHEESE,BLUE   \n",
       "4  Dairy and Egg Products  hamburger  29.68   1005            CHEESE,BRICK   \n",
       "\n",
       "  Water_(g) Energ_Kcal Protein_(g) Lipid_Tot_(g) Ash_(g)  ... Vit_K_(µg)  \\\n",
       "0     15.87        717        0.85         81.11    2.11  ...        7.0   \n",
       "1     16.72        718        0.49          78.3    1.62  ...        4.6   \n",
       "2      0.24        876        0.28         99.48     0.0  ...        8.6   \n",
       "3     42.41        353        21.4         28.74    5.11  ...        2.4   \n",
       "4     41.11        371       23.24         29.68    3.18  ...        2.5   \n",
       "\n",
       "  FA_Sat_(g) FA_Mono_(g) FA_Poly_(g) Cholestrl_(mg) GmWt_1  \\\n",
       "0     51.368      21.021       3.043          215.0    5.0   \n",
       "1      45.39      19.874       3.331          225.0    3.8   \n",
       "2     61.924      28.732       3.694          256.0   12.8   \n",
       "3     18.669       7.778         0.8           75.0  28.35   \n",
       "4     18.764       8.598       0.784           94.0  132.0   \n",
       "\n",
       "                   GmWt_Desc1 GmWt_2       GmWt_Desc2 Refuse_Pct  \n",
       "0  1 pat,  (1\" sq, 1/3\" high)   14.2           1 tbsp        0.0  \n",
       "1  1 pat,  (1\" sq, 1/3\" high)    9.4           1 tbsp        0.0  \n",
       "2                      1 tbsp  205.0            1 cup        0.0  \n",
       "3                        1 oz   17.0     1 cubic inch        0.0  \n",
       "4                1 cup, diced  113.0  1 cup, shredded        0.0  \n",
       "\n",
       "[5 rows x 56 columns]"
      ]
     },
     "execution_count": 12,
     "metadata": {},
     "output_type": "execute_result"
    }
   ],
   "source": [
    "final_df.head()"
   ]
  },
  {
   "cell_type": "code",
   "execution_count": 13,
   "id": "00347c69-d749-4993-abb6-8493141df986",
   "metadata": {},
   "outputs": [],
   "source": [
    "#create a function that takes the values for each row and computes daily value of foods\n",
    "#https://www.canada.ca/en/health-canada/services/understanding-food-labels/percent-daily-value.html\n",
    "def findDV(df):\n",
    "    fat_g = (df['Fat_g']/65)\n",
    "    sat_trans_fat = (df['FA_Sat_(g)']/20)\n",
    "    cholesterol  = ((df['Cholestrl_(mg)']/300)/1_000)\n",
    "    sodium = ((df['Sodium_(mg)']/1_000)/2400)\n",
    "    carbs = (df['Carbohydrt_(g)']/300)\n",
    "    fiber = (df['Fiber_TD_(g)']/25)\n",
    "    #Sugars = df['Sugar_Tot_(g)'] #no div\n",
    "    #protiern #no dif\n",
    "    protein = (df['Protein_(g)']/11)\n",
    "    vitA = ((df['Vit_A_RAE']/1_000)/1_000_000)\n",
    "    vitC = ((df['Vit_C_(mg)']/1_000)/60)\n",
    "    calcium = ((df['Calcium_(mg)']/1100)/1_000)\n",
    "    iron = ((df['Iron_(mg)']/14)/1_000)\n",
    "    \n",
    "    Nscore = []\n",
    "    for i in range(len(fat_g)):\n",
    "        dv = protein[i]+fat_g[i]+sat_trans_fat[i]+cholesterol[i]+sodium[i]+carbs[i]+fiber[i]+vitA[i]+vitC[i]+calcium[i]+iron[i]\n",
    "        Nscore.append(round(dv))\n",
    "    return(Nscore)\n"
   ]
  },
  {
   "cell_type": "code",
   "execution_count": 14,
   "id": "a0ca4c88-1640-48a2-ad9b-fb209411ce2f",
   "metadata": {},
   "outputs": [
    {
     "data": {
      "text/plain": [
       "1.4675767918088738"
      ]
     },
     "execution_count": 14,
     "metadata": {},
     "output_type": "execute_result"
    }
   ],
   "source": [
    "dv = findDV(final_df)\n",
    "np.mean(dv)"
   ]
  },
  {
   "cell_type": "code",
   "execution_count": 15,
   "id": "411518c9-77a9-478f-b241-e577a768dd15",
   "metadata": {},
   "outputs": [
    {
     "data": {
      "text/plain": [
       "8"
      ]
     },
     "execution_count": 15,
     "metadata": {},
     "output_type": "execute_result"
    }
   ],
   "source": [
    "max(dv)"
   ]
  },
  {
   "cell_type": "code",
   "execution_count": 16,
   "id": "25af3a1f-1a2d-4e67-b659-457e311ea066",
   "metadata": {},
   "outputs": [
    {
     "data": {
      "image/png": "[encoded data removed]",
      "text/plain": [
       "<Figure size 432x288 with 1 Axes>"
      ]
     },
     "metadata": {
      "needs_background": "light"
     },
     "output_type": "display_data"
    }
   ],
   "source": [
    "plt.hist(dv);"
   ]
  },
  {
   "cell_type": "code",
   "execution_count": 17,
   "id": "4bd9bad6-e502-4873-b858-0f50a7d83266",
   "metadata": {},
   "outputs": [],
   "source": [
    "#assign the Nutrient Densities to each score\n",
    "final_df['Daily Values'] = dv"
   ]
  },
  {
   "cell_type": "code",
   "execution_count": 18,
   "id": "d51509b6-79a0-43e3-8e34-59a96a21893c",
   "metadata": {},
   "outputs": [
    {
     "data": {
      "text/plain": [
       "<matplotlib.collections.PathCollection at 0x7fcb5c0ae9d0>"
      ]
     },
     "execution_count": 18,
     "metadata": {},
     "output_type": "execute_result"
    },
    {
     "data": {
      "image/png": "[encoded data removed]",
      "text/plain": [
       "<Figure size 432x288 with 1 Axes>"
      ]
     },
     "metadata": {
      "needs_background": "light"
     },
     "output_type": "display_data"
    }
   ],
   "source": [
    "#plot scatter of scores\n",
    "plt.scatter(range(len(dv)),dv)"
   ]
  },
  {
   "cell_type": "code",
   "execution_count": 19,
   "id": "0d396d08-c0f1-4f6d-bce8-6ed7c6b53c71",
   "metadata": {},
   "outputs": [],
   "source": [
    "#score each of the food groups manually\n",
    "final_df.loc[final_df['FoodGroup'] == 'Dairy and Egg Products', 'storage'] = 1\n",
    "final_df.loc[final_df['FoodGroup'] == 'Spices and Herbs', 'storage'] = 5\n",
    "final_df.loc[final_df['FoodGroup'] == 'Baby Foods', 'storage'] = 3\n",
    "final_df.loc[final_df['FoodGroup'] == 'Fats and Oils', 'storage'] = 5\n",
    "final_df.loc[final_df['FoodGroup'] == 'Poultry Products', 'storage'] = 1\n",
    "final_df.loc[final_df['FoodGroup'] == 'Soups, Sauces, and Gravies', 'storage'] = 4\n",
    "final_df.loc[final_df['FoodGroup'] == 'Sausages and Luncheon Meats', 'storage'] = 2\n",
    "final_df.loc[final_df['FoodGroup'] == 'Breakfast Cereals', 'storage'] = 10\n",
    "final_df.loc[final_df['FoodGroup'] == 'Fruits and Fruit Juices', 'storage'] = 4\n",
    "final_df.loc[final_df['FoodGroup'] == 'Pork Products', 'storage'] = 2\n",
    "final_df.loc[final_df['FoodGroup'] == 'Vegetables and Vegetable Products', 'storage'] = 3\n",
    "final_df.loc[final_df['FoodGroup'] == 'Nut and Seed Products', 'storage'] = 10\n",
    "final_df.loc[final_df['FoodGroup'] == 'Beef Products', 'storage'] = 2\n",
    "final_df.loc[final_df['FoodGroup'] == 'Beverages', 'storage'] = 10\n",
    "final_df.loc[final_df['FoodGroup'] == 'Finfish and Shellfish Products', 'storage'] = 1\n",
    "final_df.loc[final_df['FoodGroup'] == 'Legumes and Legume Products', 'storage'] = 9\n",
    "final_df.loc[final_df['FoodGroup'] == 'Lamb, Veal, and Game Products', 'storage'] = 2\n",
    "final_df.loc[final_df['FoodGroup'] == 'Baked Products', 'storage'] = 5\n",
    "final_df.loc[final_df['FoodGroup'] == 'Sweets', 'storage'] = 10\n",
    "final_df.loc[final_df['FoodGroup'] == 'Cereal Grains and Pasta', 'storage'] = 10\n",
    "final_df.loc[final_df['FoodGroup'] == 'Fast Foods', 'storage'] = 1\n",
    "final_df.loc[final_df['FoodGroup'] == 'Meals, Entrees, and Side Dishes', 'storage'] = 2\n",
    "final_df.loc[final_df['FoodGroup'] == 'Snacks', 'storage'] = 9\n",
    "final_df.loc[final_df['FoodGroup'] == 'American Indian/Alaska Native Foods', 'storage'] = 3\n",
    "final_df.loc[final_df['FoodGroup'] == 'Restaurant Foods', 'storage'] = 1"
   ]
  },
  {
   "cell_type": "code",
   "execution_count": 20,
   "id": "2c94f31e-43c0-4dd2-8f4a-1b9c543d3ba8",
   "metadata": {},
   "outputs": [
    {
     "data": {
      "text/plain": [
       "2    2587\n",
       "0    2363\n",
       "1    2083\n",
       "3    1540\n",
       "4     131\n",
       "6      39\n",
       "5      35\n",
       "8       6\n",
       "7       6\n",
       "Name: Daily Values, dtype: int64"
      ]
     },
     "execution_count": 20,
     "metadata": {},
     "output_type": "execute_result"
    }
   ],
   "source": [
    "final_df['Daily Values'].value_counts()"
   ]
  },
  {
   "cell_type": "code",
   "execution_count": 21,
   "id": "af3c0ff7-16d7-45ea-8e67-e4b0156ea5d3",
   "metadata": {},
   "outputs": [
    {
     "data": {
      "text/plain": [
       "10.0"
      ]
     },
     "execution_count": 21,
     "metadata": {},
     "output_type": "execute_result"
    }
   ],
   "source": [
    "final_df['Daily Values'].max() #8\n",
    "final_df['Daily Values'].min() #0\n",
    "\n",
    "final_df['storage'].min() #1\n",
    "final_df['storage'].max() #10"
   ]
  },
  {
   "cell_type": "code",
   "execution_count": 22,
   "id": "1aecd630-0ae7-49e8-82c5-a7a9f38a8d93",
   "metadata": {},
   "outputs": [],
   "source": [
    "final_df['score'] = final_df['Daily Values'] + final_df['storage'] "
   ]
  },
  {
   "cell_type": "code",
   "execution_count": 23,
   "id": "704e2262-8d97-4cb0-be08-2bd7049b5f20",
   "metadata": {},
   "outputs": [],
   "source": [
    "final_df['log_score'] = np.log(final_df['Daily Values'] + final_df['storage'] )"
   ]
  },
  {
   "cell_type": "code",
   "execution_count": 24,
   "id": "8c24e6cc-2899-47b5-9a99-42614524633d",
   "metadata": {},
   "outputs": [
    {
     "data": {
      "text/html": [
       "<div>\n",
       "<style scoped>\n",
       "    .dataframe tbody tr th:only-of-type {\n",
       "        vertical-align: middle;\n",
       "    }\n",
       "\n",
       "    .dataframe tbody tr th {\n",
       "        vertical-align: top;\n",
       "    }\n",
       "\n",
       "    .dataframe thead th {\n",
       "        text-align: right;\n",
       "    }\n",
       "</style>\n",
       "<table border=\"1\" class=\"dataframe\">\n",
       "  <thead>\n",
       "    <tr style=\"text-align: right;\">\n",
       "      <th></th>\n",
       "      <th>FoodGroup</th>\n",
       "      <th>CommonName</th>\n",
       "      <th>Fat_g</th>\n",
       "      <th>NDB_No</th>\n",
       "      <th>Shrt_Desc</th>\n",
       "      <th>Water_(g)</th>\n",
       "      <th>Energ_Kcal</th>\n",
       "      <th>Protein_(g)</th>\n",
       "      <th>Lipid_Tot_(g)</th>\n",
       "      <th>Ash_(g)</th>\n",
       "      <th>...</th>\n",
       "      <th>Cholestrl_(mg)</th>\n",
       "      <th>GmWt_1</th>\n",
       "      <th>GmWt_Desc1</th>\n",
       "      <th>GmWt_2</th>\n",
       "      <th>GmWt_Desc2</th>\n",
       "      <th>Refuse_Pct</th>\n",
       "      <th>Daily Values</th>\n",
       "      <th>storage</th>\n",
       "      <th>score</th>\n",
       "      <th>log_score</th>\n",
       "    </tr>\n",
       "  </thead>\n",
       "  <tbody>\n",
       "    <tr>\n",
       "      <th>0</th>\n",
       "      <td>Dairy and Egg Products</td>\n",
       "      <td>hamburger</td>\n",
       "      <td>81.11</td>\n",
       "      <td>1001</td>\n",
       "      <td>BUTTER,WITH SALT</td>\n",
       "      <td>15.87</td>\n",
       "      <td>717</td>\n",
       "      <td>0.85</td>\n",
       "      <td>81.11</td>\n",
       "      <td>2.11</td>\n",
       "      <td>...</td>\n",
       "      <td>215.0</td>\n",
       "      <td>5.0</td>\n",
       "      <td>1 pat,  (1\" sq, 1/3\" high)</td>\n",
       "      <td>14.2</td>\n",
       "      <td>1 tbsp</td>\n",
       "      <td>0.0</td>\n",
       "      <td>4</td>\n",
       "      <td>1.0</td>\n",
       "      <td>5.0</td>\n",
       "      <td>1.609438</td>\n",
       "    </tr>\n",
       "    <tr>\n",
       "      <th>1</th>\n",
       "      <td>Dairy and Egg Products</td>\n",
       "      <td>hamburger</td>\n",
       "      <td>81.11</td>\n",
       "      <td>1002</td>\n",
       "      <td>BUTTER,WHIPPED,W/ SALT</td>\n",
       "      <td>16.72</td>\n",
       "      <td>718</td>\n",
       "      <td>0.49</td>\n",
       "      <td>78.3</td>\n",
       "      <td>1.62</td>\n",
       "      <td>...</td>\n",
       "      <td>225.0</td>\n",
       "      <td>3.8</td>\n",
       "      <td>1 pat,  (1\" sq, 1/3\" high)</td>\n",
       "      <td>9.4</td>\n",
       "      <td>1 tbsp</td>\n",
       "      <td>0.0</td>\n",
       "      <td>4</td>\n",
       "      <td>1.0</td>\n",
       "      <td>5.0</td>\n",
       "      <td>1.609438</td>\n",
       "    </tr>\n",
       "  </tbody>\n",
       "</table>\n",
       "<p>2 rows × 60 columns</p>\n",
       "</div>"
      ],
      "text/plain": [
       "                FoodGroup CommonName  Fat_g NDB_No               Shrt_Desc  \\\n",
       "0  Dairy and Egg Products  hamburger  81.11   1001        BUTTER,WITH SALT   \n",
       "1  Dairy and Egg Products  hamburger  81.11   1002  BUTTER,WHIPPED,W/ SALT   \n",
       "\n",
       "  Water_(g) Energ_Kcal Protein_(g) Lipid_Tot_(g) Ash_(g)  ... Cholestrl_(mg)  \\\n",
       "0     15.87        717        0.85         81.11    2.11  ...          215.0   \n",
       "1     16.72        718        0.49          78.3    1.62  ...          225.0   \n",
       "\n",
       "  GmWt_1                  GmWt_Desc1 GmWt_2 GmWt_Desc2 Refuse_Pct  \\\n",
       "0    5.0  1 pat,  (1\" sq, 1/3\" high)   14.2     1 tbsp        0.0   \n",
       "1    3.8  1 pat,  (1\" sq, 1/3\" high)    9.4     1 tbsp        0.0   \n",
       "\n",
       "  Daily Values storage score log_score  \n",
       "0            4     1.0   5.0  1.609438  \n",
       "1            4     1.0   5.0  1.609438  \n",
       "\n",
       "[2 rows x 60 columns]"
      ]
     },
     "execution_count": 24,
     "metadata": {},
     "output_type": "execute_result"
    }
   ],
   "source": [
    "final_df.head(2)"
   ]
  },
  {
   "cell_type": "code",
   "execution_count": 25,
   "id": "7d06eab3-1c07-4bdb-8602-abe4457bc452",
   "metadata": {},
   "outputs": [
    {
     "data": {
      "text/plain": [
       "<AxesSubplot:>"
      ]
     },
     "execution_count": 25,
     "metadata": {},
     "output_type": "execute_result"
    },
    {
     "data": {
      "image/png": "[encoded data removed]",
      "text/plain": [
       "<Figure size 432x288 with 2 Axes>"
      ]
     },
     "metadata": {
      "needs_background": "light"
     },
     "output_type": "display_data"
    }
   ],
   "source": [
    "sns.heatmap(final_df.corr(),annot = True)"
   ]
  },
  {
   "cell_type": "code",
   "execution_count": 26,
   "id": "5572cbf6-caf3-442d-9990-49e03c4e02a1",
   "metadata": {},
   "outputs": [
    {
     "data": {
      "text/plain": [
       "1.5923169733457856"
      ]
     },
     "execution_count": 26,
     "metadata": {},
     "output_type": "execute_result"
    }
   ],
   "source": [
    "final_df['score'].mean() #5.639476678043231\n",
    "final_df['log_score'].mean() #1.5923"
   ]
  },
  {
   "cell_type": "code",
   "execution_count": 27,
   "id": "2ae78484-362c-409c-88fb-72ce437a631a",
   "metadata": {},
   "outputs": [
    {
     "data": {
      "text/plain": [
       "<matplotlib.collections.PathCollection at 0x7fcb57fcf700>"
      ]
     },
     "execution_count": 27,
     "metadata": {},
     "output_type": "execute_result"
    },
    {
     "data": {
      "image/png": "[encoded data removed]",
      "text/plain": [
       "<Figure size 432x288 with 1 Axes>"
      ]
     },
     "metadata": {
      "needs_background": "light"
     },
     "output_type": "display_data"
    }
   ],
   "source": [
    "plt.scatter(range(len(final_df['score'])),final_df['log_score'])"
   ]
  },
  {
   "cell_type": "code",
   "execution_count": 28,
   "id": "6507c8a4-f913-4194-a8bc-39d7f2ed9758",
   "metadata": {},
   "outputs": [
    {
     "data": {
      "image/png": "[encoded data removed]",
      "text/plain": [
       "<Figure size 432x288 with 1 Axes>"
      ]
     },
     "metadata": {
      "needs_background": "light"
     },
     "output_type": "display_data"
    }
   ],
   "source": [
    "plt.hist(final_df['score']);"
   ]
  },
  {
   "cell_type": "code",
   "execution_count": 29,
   "id": "24d747a6-09d3-4af3-bca7-de6f10a904b2",
   "metadata": {},
   "outputs": [
    {
     "data": {
      "image/png": "[encoded data removed]",
      "text/plain": [
       "<Figure size 432x288 with 1 Axes>"
      ]
     },
     "metadata": {
      "needs_background": "light"
     },
     "output_type": "display_data"
    }
   ],
   "source": [
    "plt.hist(np.log(final_df['score']));"
   ]
  },
  {
   "cell_type": "code",
   "execution_count": null,
   "id": "cb799e02-d2ac-4620-b62e-85e8fb4defe9",
   "metadata": {},
   "outputs": [],
   "source": []
  },
  {
   "cell_type": "code",
   "execution_count": null,
   "id": "27ea28f5-d731-4fee-8be5-07306c928e82",
   "metadata": {},
   "outputs": [],
   "source": []
  },
  {
   "cell_type": "code",
   "execution_count": null,
   "id": "f73ee644-0e07-4aa9-8ae2-db43cf46e474",
   "metadata": {},
   "outputs": [],
   "source": []
  },
  {
   "cell_type": "code",
   "execution_count": 30,
   "id": "b82eaa3e-5cd5-47d2-816c-7fa684aadd54",
   "metadata": {},
   "outputs": [],
   "source": [
    "from sklearn.preprocessing import StandardScaler, PolynomialFeatures\n",
    "from sklearn.model_selection import train_test_split\n",
    "from sklearn.linear_model import LinearRegression\n",
    "from sklearn.pipeline  import make_pipeline\n",
    "from category_encoders import OneHotEncoder\n",
    "from sklearn.metrics import mean_squared_error\n",
    "from sklearn.compose import make_column_transformer\n",
    "from sklearn.compose import make_column_selector"
   ]
  },
  {
   "cell_type": "code",
   "execution_count": null,
   "id": "edc80ec7-b85e-4983-a6b2-41fa0b447a16",
   "metadata": {},
   "outputs": [],
   "source": []
  },
  {
   "cell_type": "code",
   "execution_count": 31,
   "id": "340d5cc9-3b3e-4784-ace4-e62203169245",
   "metadata": {},
   "outputs": [],
   "source": [
    "X = final_df.drop(columns=['score','log_score'], axis =1 )\n",
    "X = final_df[['FoodGroup','Fat_g','FA_Sat_(g)','Sodium_(mg)','Carbohydrt_(g)','Fiber_TD_(g)','Protein_(g)','Vit_A_RAE','Vit_C_(mg)','Calcium_(mg)','Iron_(mg)']]\n",
    "X = final_df[['Fat_g','FA_Sat_(g)','Sodium_(mg)','Carbohydrt_(g)','Fiber_TD_(g)','Protein_(g)','Vit_A_RAE','Vit_C_(mg)','Calcium_(mg)','Iron_(mg)']]\n",
    "y = final_df['log_score']"
   ]
  },
  {
   "cell_type": "code",
   "execution_count": 32,
   "id": "97041e12-d0db-43f1-bed7-cf2f4c736228",
   "metadata": {
    "tags": []
   },
   "outputs": [
    {
     "data": {
      "text/plain": [
       "0.269086627638223"
      ]
     },
     "execution_count": 32,
     "metadata": {},
     "output_type": "execute_result"
    }
   ],
   "source": [
    "mean_squared_error(y, np.full_like(y,final_df['log_score'].mean()))"
   ]
  },
  {
   "cell_type": "code",
   "execution_count": 33,
   "id": "f87830e7-9579-4312-a147-d332e36dd713",
   "metadata": {},
   "outputs": [
    {
     "data": {
      "text/html": [
       "<div>\n",
       "<style scoped>\n",
       "    .dataframe tbody tr th:only-of-type {\n",
       "        vertical-align: middle;\n",
       "    }\n",
       "\n",
       "    .dataframe tbody tr th {\n",
       "        vertical-align: top;\n",
       "    }\n",
       "\n",
       "    .dataframe thead th {\n",
       "        text-align: right;\n",
       "    }\n",
       "</style>\n",
       "<table border=\"1\" class=\"dataframe\">\n",
       "  <thead>\n",
       "    <tr style=\"text-align: right;\">\n",
       "      <th></th>\n",
       "      <th>Fat_g</th>\n",
       "      <th>FA_Sat_(g)</th>\n",
       "      <th>Sodium_(mg)</th>\n",
       "      <th>Carbohydrt_(g)</th>\n",
       "      <th>Fiber_TD_(g)</th>\n",
       "      <th>Protein_(g)</th>\n",
       "      <th>Vit_A_RAE</th>\n",
       "      <th>Vit_C_(mg)</th>\n",
       "      <th>Calcium_(mg)</th>\n",
       "      <th>Iron_(mg)</th>\n",
       "    </tr>\n",
       "  </thead>\n",
       "  <tbody>\n",
       "    <tr>\n",
       "      <th>0</th>\n",
       "      <td>81.11</td>\n",
       "      <td>51.368</td>\n",
       "      <td>643.0</td>\n",
       "      <td>0.06</td>\n",
       "      <td>0.0</td>\n",
       "      <td>0.85</td>\n",
       "      <td>684.0</td>\n",
       "      <td>0.0</td>\n",
       "      <td>24.0</td>\n",
       "      <td>0.02</td>\n",
       "    </tr>\n",
       "    <tr>\n",
       "      <th>1</th>\n",
       "      <td>81.11</td>\n",
       "      <td>45.39</td>\n",
       "      <td>583.0</td>\n",
       "      <td>2.87</td>\n",
       "      <td>0.0</td>\n",
       "      <td>0.49</td>\n",
       "      <td>683.0</td>\n",
       "      <td>0.0</td>\n",
       "      <td>23.0</td>\n",
       "      <td>0.05</td>\n",
       "    </tr>\n",
       "  </tbody>\n",
       "</table>\n",
       "</div>"
      ],
      "text/plain": [
       "   Fat_g FA_Sat_(g) Sodium_(mg) Carbohydrt_(g) Fiber_TD_(g) Protein_(g)  \\\n",
       "0  81.11     51.368       643.0           0.06          0.0        0.85   \n",
       "1  81.11      45.39       583.0           2.87          0.0        0.49   \n",
       "\n",
       "  Vit_A_RAE Vit_C_(mg) Calcium_(mg) Iron_(mg)  \n",
       "0     684.0        0.0         24.0      0.02  \n",
       "1     683.0        0.0         23.0      0.05  "
      ]
     },
     "execution_count": 33,
     "metadata": {},
     "output_type": "execute_result"
    }
   ],
   "source": [
    "X.head(2)"
   ]
  },
  {
   "cell_type": "code",
   "execution_count": 34,
   "id": "2428bbb7-64c9-46c3-8780-5db42541f775",
   "metadata": {},
   "outputs": [],
   "source": [
    "X_train,X_test,y_train,y_test = train_test_split(X,y,random_state=518)"
   ]
  },
  {
   "cell_type": "code",
   "execution_count": 35,
   "id": "9b458aaa-74b8-42aa-8474-69e3e96df608",
   "metadata": {},
   "outputs": [
    {
     "name": "stdout",
     "output_type": "stream",
     "text": [
      "<class 'pandas.core.frame.DataFrame'>\n",
      "Int64Index: 6592 entries, 7472 to 2773\n",
      "Data columns (total 10 columns):\n",
      " #   Column          Non-Null Count  Dtype \n",
      "---  ------          --------------  ----- \n",
      " 0   Fat_g           6592 non-null   object\n",
      " 1   FA_Sat_(g)      6592 non-null   object\n",
      " 2   Sodium_(mg)     6592 non-null   object\n",
      " 3   Carbohydrt_(g)  6592 non-null   object\n",
      " 4   Fiber_TD_(g)    6592 non-null   object\n",
      " 5   Protein_(g)     6592 non-null   object\n",
      " 6   Vit_A_RAE       6592 non-null   object\n",
      " 7   Vit_C_(mg)      6592 non-null   object\n",
      " 8   Calcium_(mg)    6592 non-null   object\n",
      " 9   Iron_(mg)       6592 non-null   object\n",
      "dtypes: object(10)\n",
      "memory usage: 566.5+ KB\n"
     ]
    }
   ],
   "source": [
    "X_train.info()"
   ]
  },
  {
   "cell_type": "code",
   "execution_count": 36,
   "id": "0d9d2dbf-e273-4cb7-bcf7-7be22fee1eb9",
   "metadata": {},
   "outputs": [],
   "source": [
    "# ct = make_column_transformer(\n",
    "# ...       (StandardScaler(),\n",
    "# ...        make_column_selector(dtype_include=np.number)),  # rating\n",
    "# ...       (OneHotEncoder(),\n",
    "# ...        make_column_selector(dtype_include=object)))  # city\n",
    "\n",
    "#trans_col = make_column_transformer((OneHotEncoder(use_cat_names=True), make_column_selector('FoodGroup')) )\n",
    "                                   \n",
    "\n",
    "pipe_lr = make_pipeline(#trans_col,\n",
    "                        StandardScaler(),\n",
    "                       LinearRegression())"
   ]
  },
  {
   "cell_type": "code",
   "execution_count": 37,
   "id": "e920c117-6636-4a2e-82cc-5981cd091001",
   "metadata": {},
   "outputs": [
    {
     "data": {
      "text/plain": [
       "Pipeline(steps=[('standardscaler', StandardScaler()),\n",
       "                ('linearregression', LinearRegression())])"
      ]
     },
     "execution_count": 37,
     "metadata": {},
     "output_type": "execute_result"
    }
   ],
   "source": [
    "pipe_lr.fit(X_train,y_train)"
   ]
  },
  {
   "cell_type": "code",
   "execution_count": 38,
   "id": "fd6663b1-56b4-495f-a902-1e67b8ada411",
   "metadata": {
    "tags": []
   },
   "outputs": [
    {
     "data": {
      "text/plain": [
       "0.34623655274208676"
      ]
     },
     "execution_count": 38,
     "metadata": {},
     "output_type": "execute_result"
    }
   ],
   "source": [
    "pipe_lr.score(X_train,y_train)"
   ]
  },
  {
   "cell_type": "code",
   "execution_count": 39,
   "id": "26858012-a5ca-4e35-a0d1-314f8f38a5a8",
   "metadata": {},
   "outputs": [
    {
     "data": {
      "text/plain": [
       "0.33754059002171954"
      ]
     },
     "execution_count": 39,
     "metadata": {},
     "output_type": "execute_result"
    }
   ],
   "source": [
    "pipe_lr.score(X_test,y_test)"
   ]
  },
  {
   "cell_type": "code",
   "execution_count": null,
   "id": "cf9039ca-b279-4e2d-9fdc-16b333947607",
   "metadata": {},
   "outputs": [],
   "source": []
  },
  {
   "cell_type": "code",
   "execution_count": 40,
   "id": "ff1d5a11-0ad7-4e77-b4e2-9feff9af2e8a",
   "metadata": {},
   "outputs": [],
   "source": [
    "X = final_df[['FoodGroup','Fat_g','FA_Sat_(g)','Sodium_(mg)','Carbohydrt_(g)','Fiber_TD_(g)','Protein_(g)','Vit_A_RAE','Vit_C_(mg)','Calcium_(mg)','Iron_(mg)']]\n",
    "y = final_df['log_score']"
   ]
  },
  {
   "cell_type": "code",
   "execution_count": 41,
   "id": "8174be61-2c32-4227-ba15-6235a3e8819b",
   "metadata": {},
   "outputs": [
    {
     "data": {
      "text/html": [
       "<div>\n",
       "<style scoped>\n",
       "    .dataframe tbody tr th:only-of-type {\n",
       "        vertical-align: middle;\n",
       "    }\n",
       "\n",
       "    .dataframe tbody tr th {\n",
       "        vertical-align: top;\n",
       "    }\n",
       "\n",
       "    .dataframe thead th {\n",
       "        text-align: right;\n",
       "    }\n",
       "</style>\n",
       "<table border=\"1\" class=\"dataframe\">\n",
       "  <thead>\n",
       "    <tr style=\"text-align: right;\">\n",
       "      <th></th>\n",
       "      <th>FoodGroup</th>\n",
       "      <th>Fat_g</th>\n",
       "      <th>FA_Sat_(g)</th>\n",
       "      <th>Sodium_(mg)</th>\n",
       "      <th>Carbohydrt_(g)</th>\n",
       "      <th>Fiber_TD_(g)</th>\n",
       "      <th>Protein_(g)</th>\n",
       "      <th>Vit_A_RAE</th>\n",
       "      <th>Vit_C_(mg)</th>\n",
       "      <th>Calcium_(mg)</th>\n",
       "      <th>Iron_(mg)</th>\n",
       "    </tr>\n",
       "  </thead>\n",
       "  <tbody>\n",
       "    <tr>\n",
       "      <th>0</th>\n",
       "      <td>Dairy and Egg Products</td>\n",
       "      <td>81.11</td>\n",
       "      <td>51.368</td>\n",
       "      <td>643.0</td>\n",
       "      <td>0.06</td>\n",
       "      <td>0.0</td>\n",
       "      <td>0.85</td>\n",
       "      <td>684.0</td>\n",
       "      <td>0.0</td>\n",
       "      <td>24.0</td>\n",
       "      <td>0.02</td>\n",
       "    </tr>\n",
       "    <tr>\n",
       "      <th>1</th>\n",
       "      <td>Dairy and Egg Products</td>\n",
       "      <td>81.11</td>\n",
       "      <td>45.39</td>\n",
       "      <td>583.0</td>\n",
       "      <td>2.87</td>\n",
       "      <td>0.0</td>\n",
       "      <td>0.49</td>\n",
       "      <td>683.0</td>\n",
       "      <td>0.0</td>\n",
       "      <td>23.0</td>\n",
       "      <td>0.05</td>\n",
       "    </tr>\n",
       "  </tbody>\n",
       "</table>\n",
       "</div>"
      ],
      "text/plain": [
       "                FoodGroup  Fat_g FA_Sat_(g) Sodium_(mg) Carbohydrt_(g)  \\\n",
       "0  Dairy and Egg Products  81.11     51.368       643.0           0.06   \n",
       "1  Dairy and Egg Products  81.11      45.39       583.0           2.87   \n",
       "\n",
       "  Fiber_TD_(g) Protein_(g) Vit_A_RAE Vit_C_(mg) Calcium_(mg) Iron_(mg)  \n",
       "0          0.0        0.85     684.0        0.0         24.0      0.02  \n",
       "1          0.0        0.49     683.0        0.0         23.0      0.05  "
      ]
     },
     "execution_count": 41,
     "metadata": {},
     "output_type": "execute_result"
    }
   ],
   "source": [
    "X.head(2)"
   ]
  },
  {
   "cell_type": "code",
   "execution_count": 42,
   "id": "9ded6dd6-d529-420d-9b57-391e8dd01f84",
   "metadata": {},
   "outputs": [],
   "source": [
    "X_train,X_test,y_train,y_test = train_test_split(X,y,random_state=518)"
   ]
  },
  {
   "cell_type": "code",
   "execution_count": 43,
   "id": "cf44eec1-70db-4627-bc77-5d491a33fb02",
   "metadata": {},
   "outputs": [],
   "source": [
    "trans_col = make_column_transformer((OneHotEncoder(use_cat_names=True), make_column_selector('FoodGroup')) )\n",
    "                                   \n",
    "\n",
    "pipe_lr = make_pipeline(trans_col,\n",
    "                        StandardScaler(),\n",
    "                       LinearRegression())"
   ]
  },
  {
   "cell_type": "code",
   "execution_count": 44,
   "id": "8a05e8b4-55d6-4785-9946-98413139e242",
   "metadata": {},
   "outputs": [
    {
     "name": "stderr",
     "output_type": "stream",
     "text": [
      "/Users/anthonyreid/opt/miniconda3/lib/python3.9/site-packages/category_encoders/utils.py:21: FutureWarning: is_categorical is deprecated and will be removed in a future version.  Use is_categorical_dtype instead\n",
      "  elif pd.api.types.is_categorical(cols):\n"
     ]
    },
    {
     "data": {
      "text/plain": [
       "Pipeline(steps=[('columntransformer',\n",
       "                 ColumnTransformer(transformers=[('onehotencoder',\n",
       "                                                  OneHotEncoder(use_cat_names=True),\n",
       "                                                  <sklearn.compose._column_transformer.make_column_selector object at 0x7fcb5b1e9880>)])),\n",
       "                ('standardscaler', StandardScaler()),\n",
       "                ('linearregression', LinearRegression())])"
      ]
     },
     "execution_count": 44,
     "metadata": {},
     "output_type": "execute_result"
    }
   ],
   "source": [
    "pipe_lr.fit(X_train,y_train)"
   ]
  },
  {
   "cell_type": "code",
   "execution_count": 45,
   "id": "3062631c-6c52-438c-b6e5-106de310f514",
   "metadata": {},
   "outputs": [
    {
     "data": {
      "text/plain": [
       "0.8533444254215866"
      ]
     },
     "execution_count": 45,
     "metadata": {},
     "output_type": "execute_result"
    }
   ],
   "source": [
    "pipe_lr.score(X_train,y_train)"
   ]
  },
  {
   "cell_type": "code",
   "execution_count": 46,
   "id": "c6487811-41a3-4445-b1a6-62ba86ee543f",
   "metadata": {},
   "outputs": [
    {
     "data": {
      "text/plain": [
       "0.848902651236388"
      ]
     },
     "execution_count": 46,
     "metadata": {},
     "output_type": "execute_result"
    }
   ],
   "source": [
    "pipe_lr.score(X_test,y_test)"
   ]
  },
  {
   "cell_type": "code",
   "execution_count": null,
   "id": "e2f972da-f7c3-46da-a86c-e30e4f0b5254",
   "metadata": {},
   "outputs": [],
   "source": []
  },
  {
   "cell_type": "code",
   "execution_count": 47,
   "id": "0010a2ef-5a61-4751-bcde-39e78d8bd733",
   "metadata": {},
   "outputs": [],
   "source": [
    "X = final_df[['FoodGroup']]\n",
    "y = final_df['log_score']"
   ]
  },
  {
   "cell_type": "code",
   "execution_count": 48,
   "id": "ed2eaf63-0949-477d-8f9b-7301e4423e2a",
   "metadata": {},
   "outputs": [
    {
     "data": {
      "text/html": [
       "<div>\n",
       "<style scoped>\n",
       "    .dataframe tbody tr th:only-of-type {\n",
       "        vertical-align: middle;\n",
       "    }\n",
       "\n",
       "    .dataframe tbody tr th {\n",
       "        vertical-align: top;\n",
       "    }\n",
       "\n",
       "    .dataframe thead th {\n",
       "        text-align: right;\n",
       "    }\n",
       "</style>\n",
       "<table border=\"1\" class=\"dataframe\">\n",
       "  <thead>\n",
       "    <tr style=\"text-align: right;\">\n",
       "      <th></th>\n",
       "      <th>FoodGroup</th>\n",
       "    </tr>\n",
       "  </thead>\n",
       "  <tbody>\n",
       "    <tr>\n",
       "      <th>0</th>\n",
       "      <td>Dairy and Egg Products</td>\n",
       "    </tr>\n",
       "    <tr>\n",
       "      <th>1</th>\n",
       "      <td>Dairy and Egg Products</td>\n",
       "    </tr>\n",
       "  </tbody>\n",
       "</table>\n",
       "</div>"
      ],
      "text/plain": [
       "                FoodGroup\n",
       "0  Dairy and Egg Products\n",
       "1  Dairy and Egg Products"
      ]
     },
     "execution_count": 48,
     "metadata": {},
     "output_type": "execute_result"
    }
   ],
   "source": [
    "X.head(2)"
   ]
  },
  {
   "cell_type": "code",
   "execution_count": 49,
   "id": "5720570a-71f3-46ef-a553-d59b7c8ca22e",
   "metadata": {},
   "outputs": [],
   "source": [
    "X_train,X_test,y_train,y_test = train_test_split(X,y,random_state=518)"
   ]
  },
  {
   "cell_type": "code",
   "execution_count": 50,
   "id": "f0b6ec8c-b259-476f-beeb-b5997e868138",
   "metadata": {},
   "outputs": [],
   "source": [
    "trans_col = make_column_transformer((OneHotEncoder(use_cat_names=True), make_column_selector('FoodGroup')) )\n",
    "                                   \n",
    "\n",
    "pipe_lr = make_pipeline(trans_col,\n",
    "                        StandardScaler(),\n",
    "                       LinearRegression())"
   ]
  },
  {
   "cell_type": "code",
   "execution_count": 51,
   "id": "de58d2b4-cf62-4735-83d5-5e4aa9b2bd20",
   "metadata": {},
   "outputs": [
    {
     "name": "stderr",
     "output_type": "stream",
     "text": [
      "/Users/anthonyreid/opt/miniconda3/lib/python3.9/site-packages/category_encoders/utils.py:21: FutureWarning: is_categorical is deprecated and will be removed in a future version.  Use is_categorical_dtype instead\n",
      "  elif pd.api.types.is_categorical(cols):\n"
     ]
    },
    {
     "data": {
      "text/plain": [
       "Pipeline(steps=[('columntransformer',\n",
       "                 ColumnTransformer(transformers=[('onehotencoder',\n",
       "                                                  OneHotEncoder(use_cat_names=True),\n",
       "                                                  <sklearn.compose._column_transformer.make_column_selector object at 0x7fcb5beb4760>)])),\n",
       "                ('standardscaler', StandardScaler()),\n",
       "                ('linearregression', LinearRegression())])"
      ]
     },
     "execution_count": 51,
     "metadata": {},
     "output_type": "execute_result"
    }
   ],
   "source": [
    "pipe_lr.fit(X_train,y_train)"
   ]
  },
  {
   "cell_type": "code",
   "execution_count": 52,
   "id": "da9c6c4e-8a05-4533-87c5-369b0e11441f",
   "metadata": {},
   "outputs": [
    {
     "data": {
      "text/plain": [
       "0.8533444254215866"
      ]
     },
     "execution_count": 52,
     "metadata": {},
     "output_type": "execute_result"
    }
   ],
   "source": [
    "pipe_lr.score(X_train,y_train)"
   ]
  },
  {
   "cell_type": "code",
   "execution_count": 53,
   "id": "4f7a35e9-3edc-48d9-bf4b-3dc9aea3ec46",
   "metadata": {},
   "outputs": [
    {
     "data": {
      "text/plain": [
       "0.848902651236388"
      ]
     },
     "execution_count": 53,
     "metadata": {},
     "output_type": "execute_result"
    }
   ],
   "source": [
    "pipe_lr.score(X_test,y_test)"
   ]
  },
  {
   "cell_type": "code",
   "execution_count": null,
   "id": "0dd5fd47-a5bf-446d-9259-5bbab83e9b2d",
   "metadata": {},
   "outputs": [],
   "source": []
  },
  {
   "cell_type": "code",
   "execution_count": 54,
   "id": "a7f613c2-d009-4a56-90b6-cfd40f74a625",
   "metadata": {},
   "outputs": [
    {
     "data": {
      "text/html": [
       "<div>\n",
       "<style scoped>\n",
       "    .dataframe tbody tr th:only-of-type {\n",
       "        vertical-align: middle;\n",
       "    }\n",
       "\n",
       "    .dataframe tbody tr th {\n",
       "        vertical-align: top;\n",
       "    }\n",
       "\n",
       "    .dataframe thead th {\n",
       "        text-align: right;\n",
       "    }\n",
       "</style>\n",
       "<table border=\"1\" class=\"dataframe\">\n",
       "  <thead>\n",
       "    <tr style=\"text-align: right;\">\n",
       "      <th></th>\n",
       "      <th>Shrt_Desc</th>\n",
       "    </tr>\n",
       "  </thead>\n",
       "  <tbody>\n",
       "    <tr>\n",
       "      <th>0</th>\n",
       "      <td>BUTTER,WITH SALT</td>\n",
       "    </tr>\n",
       "    <tr>\n",
       "      <th>1</th>\n",
       "      <td>BUTTER,WHIPPED,W/ SALT</td>\n",
       "    </tr>\n",
       "  </tbody>\n",
       "</table>\n",
       "</div>"
      ],
      "text/plain": [
       "                Shrt_Desc\n",
       "0        BUTTER,WITH SALT\n",
       "1  BUTTER,WHIPPED,W/ SALT"
      ]
     },
     "execution_count": 54,
     "metadata": {},
     "output_type": "execute_result"
    }
   ],
   "source": [
    "X = final_df[['Shrt_Desc']]\n",
    "y = final_df['log_score']\n",
    "X.head(2)"
   ]
  },
  {
   "cell_type": "code",
   "execution_count": 55,
   "id": "5b27bf94-8f28-4756-a812-04d4d66e4318",
   "metadata": {},
   "outputs": [],
   "source": [
    "X_train,X_test,y_train,y_test = train_test_split(X,y,random_state=518)"
   ]
  },
  {
   "cell_type": "code",
   "execution_count": 56,
   "id": "a57126a0-766b-4ff2-aa61-bb894a86054a",
   "metadata": {},
   "outputs": [],
   "source": [
    "trans_col = make_column_transformer((OneHotEncoder(use_cat_names=True), make_column_selector('Shrt_Desc')) )\n",
    "                                   \n",
    "\n",
    "pipe_lr = make_pipeline(trans_col,\n",
    "                        StandardScaler(),\n",
    "                       LinearRegression())"
   ]
  },
  {
   "cell_type": "code",
   "execution_count": 57,
   "id": "b23fe49d-0c3b-4723-9a54-2ef45751c951",
   "metadata": {},
   "outputs": [
    {
     "name": "stderr",
     "output_type": "stream",
     "text": [
      "/Users/anthonyreid/opt/miniconda3/lib/python3.9/site-packages/category_encoders/utils.py:21: FutureWarning: is_categorical is deprecated and will be removed in a future version.  Use is_categorical_dtype instead\n",
      "  elif pd.api.types.is_categorical(cols):\n"
     ]
    },
    {
     "data": {
      "text/plain": [
       "Pipeline(steps=[('columntransformer',\n",
       "                 ColumnTransformer(transformers=[('onehotencoder',\n",
       "                                                  OneHotEncoder(use_cat_names=True),\n",
       "                                                  <sklearn.compose._column_transformer.make_column_selector object at 0x7fcb5bec3550>)])),\n",
       "                ('standardscaler', StandardScaler()),\n",
       "                ('linearregression', LinearRegression())])"
      ]
     },
     "execution_count": 57,
     "metadata": {},
     "output_type": "execute_result"
    }
   ],
   "source": [
    "pipe_lr.fit(X_train,y_train)"
   ]
  },
  {
   "cell_type": "code",
   "execution_count": 58,
   "id": "40837208-dd5d-4ac1-b66c-2e4674f9cf5f",
   "metadata": {},
   "outputs": [
    {
     "data": {
      "text/plain": [
       "1.0"
      ]
     },
     "execution_count": 58,
     "metadata": {},
     "output_type": "execute_result"
    }
   ],
   "source": [
    "pipe_lr.score(X_train,y_train)"
   ]
  },
  {
   "cell_type": "code",
   "execution_count": 59,
   "id": "b9d39296-411d-4f1b-a6e2-639c5acbbd30",
   "metadata": {},
   "outputs": [
    {
     "data": {
      "text/plain": [
       "0.00026456568272459347"
      ]
     },
     "execution_count": 59,
     "metadata": {},
     "output_type": "execute_result"
    }
   ],
   "source": [
    "pipe_lr.score(X_test,y_test)"
   ]
  },
  {
   "cell_type": "code",
   "execution_count": null,
   "id": "59ebd2bb-e20a-4e1c-92da-68d993ad7b96",
   "metadata": {},
   "outputs": [],
   "source": []
  },
  {
   "cell_type": "code",
   "execution_count": null,
   "id": "46fdc8a5-79c6-4b3d-98b9-3337cf0a8ae7",
   "metadata": {},
   "outputs": [],
   "source": [
    "#top_layer.save('saved_model/my_top_model')"
   ]
  },
  {
   "cell_type": "code",
   "execution_count": 60,
   "id": "298e5858-207e-455d-b58e-4ac1b8f80ef1",
   "metadata": {},
   "outputs": [],
   "source": [
    "pipe_lr.save('pipe_model/my_top_model')\n",
    "\n",
    "pipe_lr['linearregression']#.save('lr_model/my_bottom_model')\n",
    "\n",
    "\n",
    "import joblib"
   ]
  },
  {
   "cell_type": "code",
   "execution_count": 70,
   "id": "9c45ba41-07b8-4adb-9a48-43e97bce1b30",
   "metadata": {},
   "outputs": [
    {
     "data": {
      "text/plain": [
       "['filename.pkl']"
      ]
     },
     "execution_count": 70,
     "metadata": {},
     "output_type": "execute_result"
    }
   ],
   "source": [
    "joblib.dump(pipe_lr['linearregression'], 'filename.pkl')"
   ]
  },
  {
   "cell_type": "code",
   "execution_count": null,
   "id": "858f7eba-883c-4ba9-9603-d10ea3257ce5",
   "metadata": {},
   "outputs": [],
   "source": []
  },
  {
   "cell_type": "code",
   "execution_count": 71,
   "id": "2b90dea2-a538-4c0e-a529-e4dda39ea32d",
   "metadata": {},
   "outputs": [],
   "source": [
    "X = final_df[['FoodGroup']]\n",
    "y = final_df['log_score']"
   ]
  },
  {
   "cell_type": "code",
   "execution_count": 72,
   "id": "b1923b3f-033a-435b-883f-b42d4b2b6d26",
   "metadata": {},
   "outputs": [],
   "source": [
    "X_train,X_test,y_train,y_test = train_test_split(X,y,random_state=518)"
   ]
  },
  {
   "cell_type": "code",
   "execution_count": 73,
   "id": "17e98ce9-8473-466f-ba73-2679fdc55252",
   "metadata": {},
   "outputs": [
    {
     "name": "stderr",
     "output_type": "stream",
     "text": [
      "/Users/anthonyreid/opt/miniconda3/lib/python3.9/site-packages/category_encoders/utils.py:21: FutureWarning: is_categorical is deprecated and will be removed in a future version.  Use is_categorical_dtype instead\n",
      "  elif pd.api.types.is_categorical(cols):\n"
     ]
    }
   ],
   "source": [
    "ohe = OneHotEncoder(use_cat_names=True)\n",
    "X_train_ohe = ohe.fit_transform(X_train)\n",
    "X_test_ohe = ohe.transform(X_test)"
   ]
  },
  {
   "cell_type": "code",
   "execution_count": 74,
   "id": "2f104fc1-f2e2-49d8-9e5f-708c02f4ec44",
   "metadata": {},
   "outputs": [],
   "source": [
    "ss = StandardScaler()\n",
    "X_train_sc = ss.fit_transform(X_train_ohe)\n",
    "X_test_sc = ss.transform(X_test_ohe)"
   ]
  },
  {
   "cell_type": "code",
   "execution_count": 75,
   "id": "17d3dee8-d3f2-47b0-885d-34143c0215ad",
   "metadata": {},
   "outputs": [
    {
     "data": {
      "text/plain": [
       "LinearRegression()"
      ]
     },
     "execution_count": 75,
     "metadata": {},
     "output_type": "execute_result"
    }
   ],
   "source": [
    "lr = LinearRegression()\n",
    "lr.fit(X_train_sc,y_train)\n"
   ]
  },
  {
   "cell_type": "code",
   "execution_count": 76,
   "id": "749b2619-e2dd-4fca-ad62-b27b923603d8",
   "metadata": {},
   "outputs": [
    {
     "data": {
      "text/plain": [
       "0.8533444254215866"
      ]
     },
     "execution_count": 76,
     "metadata": {},
     "output_type": "execute_result"
    }
   ],
   "source": [
    "lr.score(X_train_sc,y_train)"
   ]
  },
  {
   "cell_type": "code",
   "execution_count": 78,
   "id": "a517fa85-24df-483e-af56-eb6480cd641a",
   "metadata": {},
   "outputs": [
    {
     "data": {
      "text/plain": [
       "0.848902651236388"
      ]
     },
     "execution_count": 78,
     "metadata": {},
     "output_type": "execute_result"
    }
   ],
   "source": [
    "lr.score(X_test_sc,y_test)"
   ]
  },
  {
   "cell_type": "code",
   "execution_count": 80,
   "id": "633c3bc7-1c06-46c7-bf06-e651ebd9cb48",
   "metadata": {},
   "outputs": [],
   "source": [
    "pd.to_pickle(lr,'./dummy.pkl')"
   ]
  },
  {
   "cell_type": "code",
   "execution_count": null,
   "id": "fa841344-a516-48e2-8eac-e04cdcf9eb25",
   "metadata": {},
   "outputs": [],
   "source": []
  }
 ],
 "metadata": {
  "kernelspec": {
   "display_name": "Python 3",
   "language": "python",
   "name": "python3"
  },
  "language_info": {
   "codemirror_mode": {
    "name": "ipython",
    "version": 3
   },
   "file_extension": ".py",
   "mimetype": "text/x-python",
   "name": "python",
   "nbconvert_exporter": "python",
   "pygments_lexer": "ipython3",
   "version": "3.9.1"
  }
 },
 "nbformat": 4,
 "nbformat_minor": 5
}
