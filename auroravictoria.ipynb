{
 "cells": [
  {
   "cell_type": "code",
   "execution_count": 1,
   "id": "a571190b-84f3-445f-be66-adcb4d230959",
   "metadata": {},
   "outputs": [],
   "source": [
    "import pandas as pd\n",
    "import numpy as np"
   ]
  },
  {
   "cell_type": "code",
   "execution_count": 2,
   "id": "1f7b3609-081d-45a9-bfd5-e1256ef17f8a",
   "metadata": {},
   "outputs": [
    {
     "data": {
      "text/plain": [
       "6"
      ]
     },
     "execution_count": 2,
     "metadata": {},
     "output_type": "execute_result"
    }
   ],
   "source": [
    "np.sum([1,2,3])"
   ]
  },
  {
   "cell_type": "code",
   "execution_count": 1,
   "id": "6a31ffb1-33a3-4cd1-ad94-47ff206eae72",
   "metadata": {},
   "outputs": [],
   "source": [
    "#making changes to AV"
   ]
  },
  {
   "cell_type": "code",
   "execution_count": 2,
   "id": "03e996b4-555c-4c51-9ec1-0c2be4e9f6ab",
   "metadata": {},
   "outputs": [],
   "source": [
    "i=9"
   ]
  },
  {
   "cell_type": "code",
   "execution_count": 3,
   "id": "f2539ca4-b516-4259-8942-eaf945eed908",
   "metadata": {},
   "outputs": [],
   "source": [
    "j=19"
   ]
  },
  {
   "cell_type": "code",
   "execution_count": 4,
   "id": "82532065-2fbe-4b6d-86ff-f4e9636a06f9",
   "metadata": {},
   "outputs": [
    {
     "data": {
      "text/plain": [
       "28"
      ]
     },
     "execution_count": 4,
     "metadata": {},
     "output_type": "execute_result"
    }
   ],
   "source": [
    "i+j"
   ]
  }
 ],
 "metadata": {
  "kernelspec": {
   "display_name": "Python 3",
   "language": "python",
   "name": "python3"
  },
  "language_info": {
   "codemirror_mode": {
    "name": "ipython",
    "version": 3
   },
   "file_extension": ".py",
   "mimetype": "text/x-python",
   "name": "python",
   "nbconvert_exporter": "python",
   "pygments_lexer": "ipython3",
   "version": "3.9.1"
  }
 },
 "nbformat": 4,
 "nbformat_minor": 5
}
